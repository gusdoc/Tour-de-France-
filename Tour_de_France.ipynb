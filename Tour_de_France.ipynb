{
  "cells": [
    {
      "cell_type": "markdown",
      "metadata": {
        "id": "view-in-github",
        "colab_type": "text"
      },
      "source": [
        "<a href=\"https://colab.research.google.com/github/gusdoc/Tour-de-France-/blob/main/Tour_de_France.ipynb\" target=\"_parent\"><img src=\"https://colab.research.google.com/assets/colab-badge.svg\" alt=\"Open In Colab\"/></a>"
      ]
    },
    {
      "cell_type": "markdown",
      "metadata": {
        "id": "Lldn6E6vr5M1"
      },
      "source": [
        "# Analisis de los ciclistas y equipos que terminaron o ganaron el Tour de France entre 2010-2022\n",
        "\n",
        "\n"
      ]
    },
    {
      "cell_type": "markdown",
      "metadata": {
        "id": "nLoexF3HEvV6"
      },
      "source": []
    },
    {
      "cell_type": "markdown",
      "metadata": {
        "id": "cWBssGZ07TIV"
      },
      "source": [
        "**Tour de France**\n",
        "\n"
      ]
    },
    {
      "cell_type": "markdown",
      "metadata": {
        "id": "Yhy0dQTAz2tj"
      },
      "source": [
        "\n",
        "\n",
        "***Contexto:*** El Tour de Francia es una prestigiosa carrera ciclista anual de varias etapas que se celebra principalmente en Francia. Es una de las pruebas ciclistas más famosas y exigentes del mundo. La carrera suele durar tres semanas y recorre unos 3.500 kilómetros (2.200 millas) de terreno variado, incluyendo montañas, etapas llanas y contrarrelojes.\n",
        "\n",
        "El Tour de Francia se organizó por primera vez en 1903 y se ha celebrado anualmente, excepto durante las dos Guerras Mundiales. Atrae a los mejores ciclistas profesionales de todo el mundo, que compiten en equipos que representan a sus respectivos países o a equipos comerciales.\n",
        "\n",
        "La carrera se divide en etapas, que pueden ser contrarrelojes individuales o etapas de salida masiva. El ganador final se determina en función del tiempo acumulado en completar todas las etapas.\n",
        "\n",
        "El Tour de Francia no es sólo una prueba de resistencia y habilidad individual, sino también una exhibición de táctica y estrategia de equipo. Se ha convertido en un acontecimiento deportivo de primer orden, con millones de espectadores en las carreteras y otros tantos en las televisiones de todo el mundo.\n",
        "\n",
        "\n",
        "***Interes de la investigación:*** El objetivo principal de este proyecto de data science es analizar los ciclistas que terminaron la carrera y aquellos que la ganaron para identificar alguna tendencia en el desempenio de los competidores entre los anios 2010 y 2022. De igual manera un analisis general de la informacion sera valioso para identificar tendencias y en un segundo proyecto ahondar mas en ellas.\n",
        "\n",
        "Las columnas en esta base de datos son las siguientes :\n",
        "\n",
        "* Year: Anio del tour de France.\n",
        "\n",
        "* Rank: Posicion al final de la carrera.\n",
        "\n",
        "* Rider: Nombre del ciclista.\n",
        "\n",
        "* Time: Tiempo en el que el ciclista termino la carrera presentado como la diferencia con el que la gano.\n",
        "\n",
        "* Team: Equipo al que el ciclista pertenece.\n",
        "\n",
        "* Year.1: Anio del tour de france.\n",
        "\n",
        "* Country: Pais de origen del ciclista.\n",
        "\n",
        "* Rider.1: Nombre del ciclista que gano la carrera.\n",
        "\n",
        "* Team.1: Equipo al que pertenece el ciclista que gano la carrera\n",
        "\n",
        "* Time.1: Tiempo en el que el ciclista que gano la carrera, termino la carrera.\n",
        "\n",
        "* Margin: Diferencia de tiempo con el ciclista que gano la carrera.\n",
        "\n",
        "* Stages_Won: Etapas ganadas.\n",
        "\n",
        "* Stages_Led: Etapas lideradas.\n",
        "\n",
        "* Avg_Speed: Velocidad promedio.\n",
        "\n",
        "* Height: Altura.\n",
        "\n",
        "* Weight: Peso.\n",
        "\n",
        "* Born: Fecha de nacimiento.\n",
        "\n",
        "* Died: Fecha de muerte.\n",
        "\n",
        "\n",
        "Esta base de datos representa una muestra de la base de datos original. De 4 tablas descargadas de Mavenanalytics (tour de Farnce), luego de la creacion del diagrama de relaciones en SQL , la union de dos tablas (full outer join) fue realizada. Esta query fue extraida y caragada en python , con pandas.\n",
        "\n",
        "\n",
        "\n",
        "***Fuente del data set:*** www.mavenanalytics.io"
      ]
    },
    {
      "cell_type": "markdown",
      "metadata": {
        "id": "SiQ1yWXXEkeG"
      },
      "source": [
        "# Exploracion del dataset"
      ]
    },
    {
      "cell_type": "markdown",
      "metadata": {
        "id": "CSV6Nb9S7ZV3"
      },
      "source": [
        "**Importacion de las librerias**"
      ]
    },
    {
      "cell_type": "code",
      "execution_count": null,
      "metadata": {
        "id": "6IV3eZjiGTa9"
      },
      "outputs": [],
      "source": [
        "import pandas as pd"
      ]
    },
    {
      "cell_type": "code",
      "source": [
        "import sklearn as sk"
      ],
      "metadata": {
        "id": "lzmfomn9oaCe"
      },
      "execution_count": null,
      "outputs": []
    },
    {
      "cell_type": "code",
      "source": [
        "import matplotlib.pyplot as plt"
      ],
      "metadata": {
        "id": "jOSv7fhIopoP"
      },
      "execution_count": null,
      "outputs": []
    },
    {
      "cell_type": "code",
      "source": [
        "import missingno as msno"
      ],
      "metadata": {
        "id": "RtDTKqMWuDar"
      },
      "execution_count": null,
      "outputs": []
    },
    {
      "cell_type": "code",
      "execution_count": null,
      "metadata": {
        "id": "XfJuNSoDZC9v"
      },
      "outputs": [],
      "source": [
        "#Traigo la query de SQL en csv\n",
        "\n",
        "# Ruta del archivo de Drive con el CSV\n",
        "archivo_drive = '/content/drive/MyDrive/TP data science/query from SQL'\n",
        "\n"
      ]
    },
    {
      "cell_type": "code",
      "execution_count": null,
      "metadata": {
        "id": "_UcIvy87sOvq"
      },
      "outputs": [],
      "source": [
        "sql_query = pd.read_csv('/content/drive/MyDrive/TP data science/query from SQL/query sql 2.csv')"
      ]
    },
    {
      "cell_type": "code",
      "execution_count": null,
      "metadata": {
        "colab": {
          "base_uri": "https://localhost:8080/",
          "height": 311
        },
        "id": "piRHCKuVseeD",
        "outputId": "8e9d5270-5dd8-4ba4-d131-dde6fc5811e6"
      },
      "outputs": [
        {
          "output_type": "execute_result",
          "data": {
            "text/plain": [
              "   Year  Rank                   Rider         Time            Team  Year.1  \\\n",
              "0  2010   NaN  Alberto Contador (ESP)  91h 58' 48\"     Team Astana    2010   \n",
              "1  2010   1.0      Andy Schleck (LUX)  91h 59' 27\"  Team Saxo Bank    2010   \n",
              "2  2010   NaN     Denis Menchov (RUS)      +1' 22\"        Rabobank    2010   \n",
              "\n",
              "      Country       Rider.1          Team.1       Time.1    Margin  \\\n",
              "0  Luxembourg  Andy Schleck  Team Saxo Bank  91h 59' 27\"  + 1' 22\"   \n",
              "1  Luxembourg  Andy Schleck  Team Saxo Bank  91h 59' 27\"  + 1' 22\"   \n",
              "2  Luxembourg  Andy Schleck  Team Saxo Bank  91h 59' 27\"  + 1' 22\"   \n",
              "\n",
              "   Stages_Won  Stages_Led Avg_Speed Height Weight        Born  Died  \n",
              "0           2        12.0  39.6km/h  1.86m   68kg  1985-06-10   NaN  \n",
              "1           2        12.0  39.6km/h  1.86m   68kg  1985-06-10   NaN  \n",
              "2           2        12.0  39.6km/h  1.86m   68kg  1985-06-10   NaN  "
            ],
            "text/html": [
              "\n",
              "\n",
              "  <div id=\"df-6fefd337-51cb-4c9a-9144-5123b15f745a\">\n",
              "    <div class=\"colab-df-container\">\n",
              "      <div>\n",
              "<style scoped>\n",
              "    .dataframe tbody tr th:only-of-type {\n",
              "        vertical-align: middle;\n",
              "    }\n",
              "\n",
              "    .dataframe tbody tr th {\n",
              "        vertical-align: top;\n",
              "    }\n",
              "\n",
              "    .dataframe thead th {\n",
              "        text-align: right;\n",
              "    }\n",
              "</style>\n",
              "<table border=\"1\" class=\"dataframe\">\n",
              "  <thead>\n",
              "    <tr style=\"text-align: right;\">\n",
              "      <th></th>\n",
              "      <th>Year</th>\n",
              "      <th>Rank</th>\n",
              "      <th>Rider</th>\n",
              "      <th>Time</th>\n",
              "      <th>Team</th>\n",
              "      <th>Year.1</th>\n",
              "      <th>Country</th>\n",
              "      <th>Rider.1</th>\n",
              "      <th>Team.1</th>\n",
              "      <th>Time.1</th>\n",
              "      <th>Margin</th>\n",
              "      <th>Stages_Won</th>\n",
              "      <th>Stages_Led</th>\n",
              "      <th>Avg_Speed</th>\n",
              "      <th>Height</th>\n",
              "      <th>Weight</th>\n",
              "      <th>Born</th>\n",
              "      <th>Died</th>\n",
              "    </tr>\n",
              "  </thead>\n",
              "  <tbody>\n",
              "    <tr>\n",
              "      <th>0</th>\n",
              "      <td>2010</td>\n",
              "      <td>NaN</td>\n",
              "      <td>Alberto Contador (ESP)</td>\n",
              "      <td>91h 58' 48\"</td>\n",
              "      <td>Team Astana</td>\n",
              "      <td>2010</td>\n",
              "      <td>Luxembourg</td>\n",
              "      <td>Andy Schleck</td>\n",
              "      <td>Team Saxo Bank</td>\n",
              "      <td>91h 59' 27\"</td>\n",
              "      <td>+ 1' 22\"</td>\n",
              "      <td>2</td>\n",
              "      <td>12.0</td>\n",
              "      <td>39.6km/h</td>\n",
              "      <td>1.86m</td>\n",
              "      <td>68kg</td>\n",
              "      <td>1985-06-10</td>\n",
              "      <td>NaN</td>\n",
              "    </tr>\n",
              "    <tr>\n",
              "      <th>1</th>\n",
              "      <td>2010</td>\n",
              "      <td>1.0</td>\n",
              "      <td>Andy Schleck (LUX)</td>\n",
              "      <td>91h 59' 27\"</td>\n",
              "      <td>Team Saxo Bank</td>\n",
              "      <td>2010</td>\n",
              "      <td>Luxembourg</td>\n",
              "      <td>Andy Schleck</td>\n",
              "      <td>Team Saxo Bank</td>\n",
              "      <td>91h 59' 27\"</td>\n",
              "      <td>+ 1' 22\"</td>\n",
              "      <td>2</td>\n",
              "      <td>12.0</td>\n",
              "      <td>39.6km/h</td>\n",
              "      <td>1.86m</td>\n",
              "      <td>68kg</td>\n",
              "      <td>1985-06-10</td>\n",
              "      <td>NaN</td>\n",
              "    </tr>\n",
              "    <tr>\n",
              "      <th>2</th>\n",
              "      <td>2010</td>\n",
              "      <td>NaN</td>\n",
              "      <td>Denis Menchov (RUS)</td>\n",
              "      <td>+1' 22\"</td>\n",
              "      <td>Rabobank</td>\n",
              "      <td>2010</td>\n",
              "      <td>Luxembourg</td>\n",
              "      <td>Andy Schleck</td>\n",
              "      <td>Team Saxo Bank</td>\n",
              "      <td>91h 59' 27\"</td>\n",
              "      <td>+ 1' 22\"</td>\n",
              "      <td>2</td>\n",
              "      <td>12.0</td>\n",
              "      <td>39.6km/h</td>\n",
              "      <td>1.86m</td>\n",
              "      <td>68kg</td>\n",
              "      <td>1985-06-10</td>\n",
              "      <td>NaN</td>\n",
              "    </tr>\n",
              "  </tbody>\n",
              "</table>\n",
              "</div>\n",
              "      <button class=\"colab-df-convert\" onclick=\"convertToInteractive('df-6fefd337-51cb-4c9a-9144-5123b15f745a')\"\n",
              "              title=\"Convert this dataframe to an interactive table.\"\n",
              "              style=\"display:none;\">\n",
              "\n",
              "  <svg xmlns=\"http://www.w3.org/2000/svg\" height=\"24px\"viewBox=\"0 0 24 24\"\n",
              "       width=\"24px\">\n",
              "    <path d=\"M0 0h24v24H0V0z\" fill=\"none\"/>\n",
              "    <path d=\"M18.56 5.44l.94 2.06.94-2.06 2.06-.94-2.06-.94-.94-2.06-.94 2.06-2.06.94zm-11 1L8.5 8.5l.94-2.06 2.06-.94-2.06-.94L8.5 2.5l-.94 2.06-2.06.94zm10 10l.94 2.06.94-2.06 2.06-.94-2.06-.94-.94-2.06-.94 2.06-2.06.94z\"/><path d=\"M17.41 7.96l-1.37-1.37c-.4-.4-.92-.59-1.43-.59-.52 0-1.04.2-1.43.59L10.3 9.45l-7.72 7.72c-.78.78-.78 2.05 0 2.83L4 21.41c.39.39.9.59 1.41.59.51 0 1.02-.2 1.41-.59l7.78-7.78 2.81-2.81c.8-.78.8-2.07 0-2.86zM5.41 20L4 18.59l7.72-7.72 1.47 1.35L5.41 20z\"/>\n",
              "  </svg>\n",
              "      </button>\n",
              "\n",
              "\n",
              "\n",
              "    <div id=\"df-1704acc9-cc4e-4916-8a73-0c94e369c1ca\">\n",
              "      <button class=\"colab-df-quickchart\" onclick=\"quickchart('df-1704acc9-cc4e-4916-8a73-0c94e369c1ca')\"\n",
              "              title=\"Suggest charts.\"\n",
              "              style=\"display:none;\">\n",
              "\n",
              "<svg xmlns=\"http://www.w3.org/2000/svg\" height=\"24px\"viewBox=\"0 0 24 24\"\n",
              "     width=\"24px\">\n",
              "    <g>\n",
              "        <path d=\"M19 3H5c-1.1 0-2 .9-2 2v14c0 1.1.9 2 2 2h14c1.1 0 2-.9 2-2V5c0-1.1-.9-2-2-2zM9 17H7v-7h2v7zm4 0h-2V7h2v10zm4 0h-2v-4h2v4z\"/>\n",
              "    </g>\n",
              "</svg>\n",
              "      </button>\n",
              "    </div>\n",
              "\n",
              "<style>\n",
              "  .colab-df-quickchart {\n",
              "    background-color: #E8F0FE;\n",
              "    border: none;\n",
              "    border-radius: 50%;\n",
              "    cursor: pointer;\n",
              "    display: none;\n",
              "    fill: #1967D2;\n",
              "    height: 32px;\n",
              "    padding: 0 0 0 0;\n",
              "    width: 32px;\n",
              "  }\n",
              "\n",
              "  .colab-df-quickchart:hover {\n",
              "    background-color: #E2EBFA;\n",
              "    box-shadow: 0px 1px 2px rgba(60, 64, 67, 0.3), 0px 1px 3px 1px rgba(60, 64, 67, 0.15);\n",
              "    fill: #174EA6;\n",
              "  }\n",
              "\n",
              "  [theme=dark] .colab-df-quickchart {\n",
              "    background-color: #3B4455;\n",
              "    fill: #D2E3FC;\n",
              "  }\n",
              "\n",
              "  [theme=dark] .colab-df-quickchart:hover {\n",
              "    background-color: #434B5C;\n",
              "    box-shadow: 0px 1px 3px 1px rgba(0, 0, 0, 0.15);\n",
              "    filter: drop-shadow(0px 1px 2px rgba(0, 0, 0, 0.3));\n",
              "    fill: #FFFFFF;\n",
              "  }\n",
              "</style>\n",
              "\n",
              "    <script>\n",
              "      async function quickchart(key) {\n",
              "        const containerElement = document.querySelector('#' + key);\n",
              "        const charts = await google.colab.kernel.invokeFunction(\n",
              "            'suggestCharts', [key], {});\n",
              "      }\n",
              "    </script>\n",
              "\n",
              "      <script>\n",
              "\n",
              "function displayQuickchartButton(domScope) {\n",
              "  let quickchartButtonEl =\n",
              "    domScope.querySelector('#df-1704acc9-cc4e-4916-8a73-0c94e369c1ca button.colab-df-quickchart');\n",
              "  quickchartButtonEl.style.display =\n",
              "    google.colab.kernel.accessAllowed ? 'block' : 'none';\n",
              "}\n",
              "\n",
              "        displayQuickchartButton(document);\n",
              "      </script>\n",
              "      <style>\n",
              "    .colab-df-container {\n",
              "      display:flex;\n",
              "      flex-wrap:wrap;\n",
              "      gap: 12px;\n",
              "    }\n",
              "\n",
              "    .colab-df-convert {\n",
              "      background-color: #E8F0FE;\n",
              "      border: none;\n",
              "      border-radius: 50%;\n",
              "      cursor: pointer;\n",
              "      display: none;\n",
              "      fill: #1967D2;\n",
              "      height: 32px;\n",
              "      padding: 0 0 0 0;\n",
              "      width: 32px;\n",
              "    }\n",
              "\n",
              "    .colab-df-convert:hover {\n",
              "      background-color: #E2EBFA;\n",
              "      box-shadow: 0px 1px 2px rgba(60, 64, 67, 0.3), 0px 1px 3px 1px rgba(60, 64, 67, 0.15);\n",
              "      fill: #174EA6;\n",
              "    }\n",
              "\n",
              "    [theme=dark] .colab-df-convert {\n",
              "      background-color: #3B4455;\n",
              "      fill: #D2E3FC;\n",
              "    }\n",
              "\n",
              "    [theme=dark] .colab-df-convert:hover {\n",
              "      background-color: #434B5C;\n",
              "      box-shadow: 0px 1px 3px 1px rgba(0, 0, 0, 0.15);\n",
              "      filter: drop-shadow(0px 1px 2px rgba(0, 0, 0, 0.3));\n",
              "      fill: #FFFFFF;\n",
              "    }\n",
              "  </style>\n",
              "\n",
              "      <script>\n",
              "        const buttonEl =\n",
              "          document.querySelector('#df-6fefd337-51cb-4c9a-9144-5123b15f745a button.colab-df-convert');\n",
              "        buttonEl.style.display =\n",
              "          google.colab.kernel.accessAllowed ? 'block' : 'none';\n",
              "\n",
              "        async function convertToInteractive(key) {\n",
              "          const element = document.querySelector('#df-6fefd337-51cb-4c9a-9144-5123b15f745a');\n",
              "          const dataTable =\n",
              "            await google.colab.kernel.invokeFunction('convertToInteractive',\n",
              "                                                     [key], {});\n",
              "          if (!dataTable) return;\n",
              "\n",
              "          const docLinkHtml = 'Like what you see? Visit the ' +\n",
              "            '<a target=\"_blank\" href=https://colab.research.google.com/notebooks/data_table.ipynb>data table notebook</a>'\n",
              "            + ' to learn more about interactive tables.';\n",
              "          element.innerHTML = '';\n",
              "          dataTable['output_type'] = 'display_data';\n",
              "          await google.colab.output.renderOutput(dataTable, element);\n",
              "          const docLink = document.createElement('div');\n",
              "          docLink.innerHTML = docLinkHtml;\n",
              "          element.appendChild(docLink);\n",
              "        }\n",
              "      </script>\n",
              "    </div>\n",
              "  </div>\n"
            ]
          },
          "metadata": {},
          "execution_count": 8
        }
      ],
      "source": [
        "sql_query.head(3)"
      ]
    },
    {
      "cell_type": "markdown",
      "metadata": {
        "id": "ph6WNOCzznNf"
      },
      "source": [
        "**Ver como esta estructurado el Data Set**"
      ]
    },
    {
      "cell_type": "code",
      "execution_count": null,
      "metadata": {
        "colab": {
          "base_uri": "https://localhost:8080/"
        },
        "id": "ooHYbhfeCvT9",
        "outputId": "fe8f5c42-5c45-4d3c-f5e0-5ee0128d51c4"
      },
      "outputs": [
        {
          "output_type": "execute_result",
          "data": {
            "text/plain": [
              "(1617, 18)"
            ]
          },
          "metadata": {},
          "execution_count": 12
        }
      ],
      "source": [
        "sql_query.shape"
      ]
    },
    {
      "cell_type": "markdown",
      "metadata": {
        "id": "yCKFnxe4ztu_"
      },
      "source": [
        "**Ver tipos de datos**"
      ]
    },
    {
      "cell_type": "code",
      "execution_count": null,
      "metadata": {
        "colab": {
          "base_uri": "https://localhost:8080/"
        },
        "id": "5mcUgH8dKUwh",
        "outputId": "323db30a-3d54-4537-d09a-8dd833385071"
      },
      "outputs": [
        {
          "output_type": "stream",
          "name": "stdout",
          "text": [
            "<class 'pandas.core.frame.DataFrame'>\n",
            "Int64Index: 1617 entries, 1 to 1624\n",
            "Data columns (total 18 columns):\n",
            " #   Column      Non-Null Count  Dtype  \n",
            "---  ------      --------------  -----  \n",
            " 0   Year        1617 non-null   int64  \n",
            " 1   Rank        1617 non-null   float64\n",
            " 2   Rider       1617 non-null   object \n",
            " 3   Time        1616 non-null   object \n",
            " 4   Team        1616 non-null   object \n",
            " 5   Year.1      1617 non-null   int64  \n",
            " 6   Country     1617 non-null   object \n",
            " 7   Rider.1     1617 non-null   object \n",
            " 8   Team.1      1617 non-null   object \n",
            " 9   Time.1      1617 non-null   object \n",
            " 10  Margin      1617 non-null   object \n",
            " 11  Stages_Won  1617 non-null   int64  \n",
            " 12  Stages_Led  1617 non-null   float64\n",
            " 13  Avg_Speed   1617 non-null   object \n",
            " 14  Height      1617 non-null   object \n",
            " 15  Weight      1617 non-null   object \n",
            " 16  Born        1617 non-null   object \n",
            " 17  Died        0 non-null      float64\n",
            "dtypes: float64(3), int64(3), object(12)\n",
            "memory usage: 240.0+ KB\n"
          ]
        }
      ],
      "source": [
        "sql_query.info()"
      ]
    },
    {
      "cell_type": "markdown",
      "metadata": {
        "id": "Yj-vmcOJdNPY"
      },
      "source": [
        "Aqui veo que las columnas Rank y Stages tienen datos faltantes"
      ]
    },
    {
      "cell_type": "code",
      "execution_count": null,
      "metadata": {
        "colab": {
          "base_uri": "https://localhost:8080/"
        },
        "id": "4tJHmhwtKlpy",
        "outputId": "ce3696ce-eddb-429b-fc8b-01fb8ed163d9"
      },
      "outputs": [
        {
          "output_type": "execute_result",
          "data": {
            "text/plain": [
              "Year            int64\n",
              "Rank          float64\n",
              "Rider          object\n",
              "Time           object\n",
              "Team           object\n",
              "Year.1          int64\n",
              "Country        object\n",
              "Rider.1        object\n",
              "Team.1         object\n",
              "Time.1         object\n",
              "Margin         object\n",
              "Stages_Won      int64\n",
              "Stages_Led    float64\n",
              "Avg_Speed      object\n",
              "Height         object\n",
              "Weight         object\n",
              "Born           object\n",
              "Died          float64\n",
              "dtype: object"
            ]
          },
          "metadata": {},
          "execution_count": 14
        }
      ],
      "source": [
        "sql_query.dtypes"
      ]
    },
    {
      "cell_type": "markdown",
      "metadata": {
        "id": "bymC5nN9vSlD"
      },
      "source": [
        "Aqui veo que las columnas time, time.1, Avg_Speed, Height, Weight son objects. Debere transformarlas a int para realizar estadistica sobre datos cuanttativos si asi quisiera."
      ]
    },
    {
      "cell_type": "markdown",
      "metadata": {
        "id": "yGT8Z3ico7qM"
      },
      "source": [
        "Chequeo de duplicados"
      ]
    },
    {
      "cell_type": "code",
      "execution_count": null,
      "metadata": {
        "colab": {
          "base_uri": "https://localhost:8080/"
        },
        "id": "rtEsaurro-ly",
        "outputId": "d768ada7-5296-43de-f523-31ce032b9922"
      },
      "outputs": [
        {
          "output_type": "execute_result",
          "data": {
            "text/plain": [
              "1       False\n",
              "3       False\n",
              "4       False\n",
              "5       False\n",
              "6       False\n",
              "        ...  \n",
              "1620    False\n",
              "1621    False\n",
              "1622    False\n",
              "1623    False\n",
              "1624    False\n",
              "Length: 1617, dtype: bool"
            ]
          },
          "metadata": {},
          "execution_count": 15
        }
      ],
      "source": [
        "sql_query.duplicated()"
      ]
    },
    {
      "cell_type": "code",
      "execution_count": null,
      "metadata": {
        "colab": {
          "base_uri": "https://localhost:8080/"
        },
        "id": "v6YcxSHhq2aq",
        "outputId": "0cb0e6e5-5e51-482d-d926-aa41da2beaf8"
      },
      "outputs": [
        {
          "output_type": "execute_result",
          "data": {
            "text/plain": [
              "0"
            ]
          },
          "metadata": {},
          "execution_count": 16
        }
      ],
      "source": [
        "sql_query.duplicated().sum()"
      ]
    },
    {
      "cell_type": "markdown",
      "metadata": {
        "id": "_4HtBxxWpFHx"
      },
      "source": [
        "No tengo lineas duplicadas"
      ]
    },
    {
      "cell_type": "code",
      "execution_count": null,
      "metadata": {
        "colab": {
          "base_uri": "https://localhost:8080/",
          "height": 835
        },
        "id": "jwqCU-Aep14L",
        "outputId": "5c356a6d-33db-43c6-ba0e-e3dc07f024d4"
      },
      "outputs": [
        {
          "output_type": "execute_result",
          "data": {
            "text/plain": [
              "      Year   Rank                        Rider          Time  \\\n",
              "1     2010    1.0           Andy Schleck (LUX)   91h 59' 27\"   \n",
              "3     2010    2.0         Samuel Sánchez (ESP)      + 3' 01\"   \n",
              "4     2010    3.0  Jurgen Van den Broeck (BEL)      + 6' 15\"   \n",
              "5     2010    4.0          Robert Gesink (NED)      + 8' 52\"   \n",
              "6     2010    5.0         Ryder Hesjedal (CAN)      + 9' 36\"   \n",
              "...    ...    ...                          ...           ...   \n",
              "1620  2019  151.0           Alex Dowsett (GBR)  + 4h 14' 39\"   \n",
              "1621  2019  152.0         Michael Mørkøv (DEN)  + 4h 19' 33\"   \n",
              "1622  2019  153.0       Jens Debusschere (BEL)  + 4h 29' 07\"   \n",
              "1623  2019  154.0          Yoann Offredo (FRA)  + 4h 31' 43\"   \n",
              "1624  2019  155.0    Sebastian Langeveld (NED)  + 4h 34' 23\"   \n",
              "\n",
              "                       Team  Year.1     Country       Rider.1          Team.1  \\\n",
              "1            Team Saxo Bank    2010  Luxembourg  Andy Schleck  Team Saxo Bank   \n",
              "3         Euskaltel–Euskadi    2010  Luxembourg  Andy Schleck  Team Saxo Bank   \n",
              "4        Omega Pharma–Lotto    2010  Luxembourg  Andy Schleck  Team Saxo Bank   \n",
              "5                  Rabobank    2010  Luxembourg  Andy Schleck  Team Saxo Bank   \n",
              "6        Garmin–Transitions    2010  Luxembourg  Andy Schleck  Team Saxo Bank   \n",
              "...                     ...     ...         ...           ...             ...   \n",
              "1620   Team Katusha–Alpecin    2019    Colombia   Egan Bernal      Team Ineos   \n",
              "1621  Deceuninck–Quick-Step    2019    Colombia   Egan Bernal      Team Ineos   \n",
              "1622   Team Katusha–Alpecin    2019    Colombia   Egan Bernal      Team Ineos   \n",
              "1623           Wanty–Gobert    2019    Colombia   Egan Bernal      Team Ineos   \n",
              "1624     EF Education First    2019    Colombia   Egan Bernal      Team Ineos   \n",
              "\n",
              "           Time.1    Margin  Stages_Won  Stages_Led Avg_Speed Height Weight  \\\n",
              "1     91h 59' 27\"  + 1' 22\"           2        12.0  39.6km/h  1.86m   68kg   \n",
              "3     91h 59' 27\"  + 1' 22\"           2        12.0  39.6km/h  1.86m   68kg   \n",
              "4     91h 59' 27\"  + 1' 22\"           2        12.0  39.6km/h  1.86m   68kg   \n",
              "5     91h 59' 27\"  + 1' 22\"           2        12.0  39.6km/h  1.86m   68kg   \n",
              "6     91h 59' 27\"  + 1' 22\"           2        12.0  39.6km/h  1.86m   68kg   \n",
              "...           ...       ...         ...         ...       ...    ...    ...   \n",
              "1620  82h 57' 00\"  + 1' 11\"           0         2.0  40.6km/h  1.75m   60kg   \n",
              "1621  82h 57' 00\"  + 1' 11\"           0         2.0  40.6km/h  1.75m   60kg   \n",
              "1622  82h 57' 00\"  + 1' 11\"           0         2.0  40.6km/h  1.75m   60kg   \n",
              "1623  82h 57' 00\"  + 1' 11\"           0         2.0  40.6km/h  1.75m   60kg   \n",
              "1624  82h 57' 00\"  + 1' 11\"           0         2.0  40.6km/h  1.75m   60kg   \n",
              "\n",
              "            Born  Died  \n",
              "1     1985-06-10   NaN  \n",
              "3     1985-06-10   NaN  \n",
              "4     1985-06-10   NaN  \n",
              "5     1985-06-10   NaN  \n",
              "6     1985-06-10   NaN  \n",
              "...          ...   ...  \n",
              "1620  1997-01-13   NaN  \n",
              "1621  1997-01-13   NaN  \n",
              "1622  1997-01-13   NaN  \n",
              "1623  1997-01-13   NaN  \n",
              "1624  1997-01-13   NaN  \n",
              "\n",
              "[1617 rows x 18 columns]"
            ],
            "text/html": [
              "\n",
              "\n",
              "  <div id=\"df-95d37e56-c475-40e4-8d46-2b031d2efb55\">\n",
              "    <div class=\"colab-df-container\">\n",
              "      <div>\n",
              "<style scoped>\n",
              "    .dataframe tbody tr th:only-of-type {\n",
              "        vertical-align: middle;\n",
              "    }\n",
              "\n",
              "    .dataframe tbody tr th {\n",
              "        vertical-align: top;\n",
              "    }\n",
              "\n",
              "    .dataframe thead th {\n",
              "        text-align: right;\n",
              "    }\n",
              "</style>\n",
              "<table border=\"1\" class=\"dataframe\">\n",
              "  <thead>\n",
              "    <tr style=\"text-align: right;\">\n",
              "      <th></th>\n",
              "      <th>Year</th>\n",
              "      <th>Rank</th>\n",
              "      <th>Rider</th>\n",
              "      <th>Time</th>\n",
              "      <th>Team</th>\n",
              "      <th>Year.1</th>\n",
              "      <th>Country</th>\n",
              "      <th>Rider.1</th>\n",
              "      <th>Team.1</th>\n",
              "      <th>Time.1</th>\n",
              "      <th>Margin</th>\n",
              "      <th>Stages_Won</th>\n",
              "      <th>Stages_Led</th>\n",
              "      <th>Avg_Speed</th>\n",
              "      <th>Height</th>\n",
              "      <th>Weight</th>\n",
              "      <th>Born</th>\n",
              "      <th>Died</th>\n",
              "    </tr>\n",
              "  </thead>\n",
              "  <tbody>\n",
              "    <tr>\n",
              "      <th>1</th>\n",
              "      <td>2010</td>\n",
              "      <td>1.0</td>\n",
              "      <td>Andy Schleck (LUX)</td>\n",
              "      <td>91h 59' 27\"</td>\n",
              "      <td>Team Saxo Bank</td>\n",
              "      <td>2010</td>\n",
              "      <td>Luxembourg</td>\n",
              "      <td>Andy Schleck</td>\n",
              "      <td>Team Saxo Bank</td>\n",
              "      <td>91h 59' 27\"</td>\n",
              "      <td>+ 1' 22\"</td>\n",
              "      <td>2</td>\n",
              "      <td>12.0</td>\n",
              "      <td>39.6km/h</td>\n",
              "      <td>1.86m</td>\n",
              "      <td>68kg</td>\n",
              "      <td>1985-06-10</td>\n",
              "      <td>NaN</td>\n",
              "    </tr>\n",
              "    <tr>\n",
              "      <th>3</th>\n",
              "      <td>2010</td>\n",
              "      <td>2.0</td>\n",
              "      <td>Samuel Sánchez (ESP)</td>\n",
              "      <td>+ 3' 01\"</td>\n",
              "      <td>Euskaltel–Euskadi</td>\n",
              "      <td>2010</td>\n",
              "      <td>Luxembourg</td>\n",
              "      <td>Andy Schleck</td>\n",
              "      <td>Team Saxo Bank</td>\n",
              "      <td>91h 59' 27\"</td>\n",
              "      <td>+ 1' 22\"</td>\n",
              "      <td>2</td>\n",
              "      <td>12.0</td>\n",
              "      <td>39.6km/h</td>\n",
              "      <td>1.86m</td>\n",
              "      <td>68kg</td>\n",
              "      <td>1985-06-10</td>\n",
              "      <td>NaN</td>\n",
              "    </tr>\n",
              "    <tr>\n",
              "      <th>4</th>\n",
              "      <td>2010</td>\n",
              "      <td>3.0</td>\n",
              "      <td>Jurgen Van den Broeck (BEL)</td>\n",
              "      <td>+ 6' 15\"</td>\n",
              "      <td>Omega Pharma–Lotto</td>\n",
              "      <td>2010</td>\n",
              "      <td>Luxembourg</td>\n",
              "      <td>Andy Schleck</td>\n",
              "      <td>Team Saxo Bank</td>\n",
              "      <td>91h 59' 27\"</td>\n",
              "      <td>+ 1' 22\"</td>\n",
              "      <td>2</td>\n",
              "      <td>12.0</td>\n",
              "      <td>39.6km/h</td>\n",
              "      <td>1.86m</td>\n",
              "      <td>68kg</td>\n",
              "      <td>1985-06-10</td>\n",
              "      <td>NaN</td>\n",
              "    </tr>\n",
              "    <tr>\n",
              "      <th>5</th>\n",
              "      <td>2010</td>\n",
              "      <td>4.0</td>\n",
              "      <td>Robert Gesink (NED)</td>\n",
              "      <td>+ 8' 52\"</td>\n",
              "      <td>Rabobank</td>\n",
              "      <td>2010</td>\n",
              "      <td>Luxembourg</td>\n",
              "      <td>Andy Schleck</td>\n",
              "      <td>Team Saxo Bank</td>\n",
              "      <td>91h 59' 27\"</td>\n",
              "      <td>+ 1' 22\"</td>\n",
              "      <td>2</td>\n",
              "      <td>12.0</td>\n",
              "      <td>39.6km/h</td>\n",
              "      <td>1.86m</td>\n",
              "      <td>68kg</td>\n",
              "      <td>1985-06-10</td>\n",
              "      <td>NaN</td>\n",
              "    </tr>\n",
              "    <tr>\n",
              "      <th>6</th>\n",
              "      <td>2010</td>\n",
              "      <td>5.0</td>\n",
              "      <td>Ryder Hesjedal (CAN)</td>\n",
              "      <td>+ 9' 36\"</td>\n",
              "      <td>Garmin–Transitions</td>\n",
              "      <td>2010</td>\n",
              "      <td>Luxembourg</td>\n",
              "      <td>Andy Schleck</td>\n",
              "      <td>Team Saxo Bank</td>\n",
              "      <td>91h 59' 27\"</td>\n",
              "      <td>+ 1' 22\"</td>\n",
              "      <td>2</td>\n",
              "      <td>12.0</td>\n",
              "      <td>39.6km/h</td>\n",
              "      <td>1.86m</td>\n",
              "      <td>68kg</td>\n",
              "      <td>1985-06-10</td>\n",
              "      <td>NaN</td>\n",
              "    </tr>\n",
              "    <tr>\n",
              "      <th>...</th>\n",
              "      <td>...</td>\n",
              "      <td>...</td>\n",
              "      <td>...</td>\n",
              "      <td>...</td>\n",
              "      <td>...</td>\n",
              "      <td>...</td>\n",
              "      <td>...</td>\n",
              "      <td>...</td>\n",
              "      <td>...</td>\n",
              "      <td>...</td>\n",
              "      <td>...</td>\n",
              "      <td>...</td>\n",
              "      <td>...</td>\n",
              "      <td>...</td>\n",
              "      <td>...</td>\n",
              "      <td>...</td>\n",
              "      <td>...</td>\n",
              "      <td>...</td>\n",
              "    </tr>\n",
              "    <tr>\n",
              "      <th>1620</th>\n",
              "      <td>2019</td>\n",
              "      <td>151.0</td>\n",
              "      <td>Alex Dowsett (GBR)</td>\n",
              "      <td>+ 4h 14' 39\"</td>\n",
              "      <td>Team Katusha–Alpecin</td>\n",
              "      <td>2019</td>\n",
              "      <td>Colombia</td>\n",
              "      <td>Egan Bernal</td>\n",
              "      <td>Team Ineos</td>\n",
              "      <td>82h 57' 00\"</td>\n",
              "      <td>+ 1' 11\"</td>\n",
              "      <td>0</td>\n",
              "      <td>2.0</td>\n",
              "      <td>40.6km/h</td>\n",
              "      <td>1.75m</td>\n",
              "      <td>60kg</td>\n",
              "      <td>1997-01-13</td>\n",
              "      <td>NaN</td>\n",
              "    </tr>\n",
              "    <tr>\n",
              "      <th>1621</th>\n",
              "      <td>2019</td>\n",
              "      <td>152.0</td>\n",
              "      <td>Michael Mørkøv (DEN)</td>\n",
              "      <td>+ 4h 19' 33\"</td>\n",
              "      <td>Deceuninck–Quick-Step</td>\n",
              "      <td>2019</td>\n",
              "      <td>Colombia</td>\n",
              "      <td>Egan Bernal</td>\n",
              "      <td>Team Ineos</td>\n",
              "      <td>82h 57' 00\"</td>\n",
              "      <td>+ 1' 11\"</td>\n",
              "      <td>0</td>\n",
              "      <td>2.0</td>\n",
              "      <td>40.6km/h</td>\n",
              "      <td>1.75m</td>\n",
              "      <td>60kg</td>\n",
              "      <td>1997-01-13</td>\n",
              "      <td>NaN</td>\n",
              "    </tr>\n",
              "    <tr>\n",
              "      <th>1622</th>\n",
              "      <td>2019</td>\n",
              "      <td>153.0</td>\n",
              "      <td>Jens Debusschere (BEL)</td>\n",
              "      <td>+ 4h 29' 07\"</td>\n",
              "      <td>Team Katusha–Alpecin</td>\n",
              "      <td>2019</td>\n",
              "      <td>Colombia</td>\n",
              "      <td>Egan Bernal</td>\n",
              "      <td>Team Ineos</td>\n",
              "      <td>82h 57' 00\"</td>\n",
              "      <td>+ 1' 11\"</td>\n",
              "      <td>0</td>\n",
              "      <td>2.0</td>\n",
              "      <td>40.6km/h</td>\n",
              "      <td>1.75m</td>\n",
              "      <td>60kg</td>\n",
              "      <td>1997-01-13</td>\n",
              "      <td>NaN</td>\n",
              "    </tr>\n",
              "    <tr>\n",
              "      <th>1623</th>\n",
              "      <td>2019</td>\n",
              "      <td>154.0</td>\n",
              "      <td>Yoann Offredo (FRA)</td>\n",
              "      <td>+ 4h 31' 43\"</td>\n",
              "      <td>Wanty–Gobert</td>\n",
              "      <td>2019</td>\n",
              "      <td>Colombia</td>\n",
              "      <td>Egan Bernal</td>\n",
              "      <td>Team Ineos</td>\n",
              "      <td>82h 57' 00\"</td>\n",
              "      <td>+ 1' 11\"</td>\n",
              "      <td>0</td>\n",
              "      <td>2.0</td>\n",
              "      <td>40.6km/h</td>\n",
              "      <td>1.75m</td>\n",
              "      <td>60kg</td>\n",
              "      <td>1997-01-13</td>\n",
              "      <td>NaN</td>\n",
              "    </tr>\n",
              "    <tr>\n",
              "      <th>1624</th>\n",
              "      <td>2019</td>\n",
              "      <td>155.0</td>\n",
              "      <td>Sebastian Langeveld (NED)</td>\n",
              "      <td>+ 4h 34' 23\"</td>\n",
              "      <td>EF Education First</td>\n",
              "      <td>2019</td>\n",
              "      <td>Colombia</td>\n",
              "      <td>Egan Bernal</td>\n",
              "      <td>Team Ineos</td>\n",
              "      <td>82h 57' 00\"</td>\n",
              "      <td>+ 1' 11\"</td>\n",
              "      <td>0</td>\n",
              "      <td>2.0</td>\n",
              "      <td>40.6km/h</td>\n",
              "      <td>1.75m</td>\n",
              "      <td>60kg</td>\n",
              "      <td>1997-01-13</td>\n",
              "      <td>NaN</td>\n",
              "    </tr>\n",
              "  </tbody>\n",
              "</table>\n",
              "<p>1617 rows × 18 columns</p>\n",
              "</div>\n",
              "      <button class=\"colab-df-convert\" onclick=\"convertToInteractive('df-95d37e56-c475-40e4-8d46-2b031d2efb55')\"\n",
              "              title=\"Convert this dataframe to an interactive table.\"\n",
              "              style=\"display:none;\">\n",
              "\n",
              "  <svg xmlns=\"http://www.w3.org/2000/svg\" height=\"24px\"viewBox=\"0 0 24 24\"\n",
              "       width=\"24px\">\n",
              "    <path d=\"M0 0h24v24H0V0z\" fill=\"none\"/>\n",
              "    <path d=\"M18.56 5.44l.94 2.06.94-2.06 2.06-.94-2.06-.94-.94-2.06-.94 2.06-2.06.94zm-11 1L8.5 8.5l.94-2.06 2.06-.94-2.06-.94L8.5 2.5l-.94 2.06-2.06.94zm10 10l.94 2.06.94-2.06 2.06-.94-2.06-.94-.94-2.06-.94 2.06-2.06.94z\"/><path d=\"M17.41 7.96l-1.37-1.37c-.4-.4-.92-.59-1.43-.59-.52 0-1.04.2-1.43.59L10.3 9.45l-7.72 7.72c-.78.78-.78 2.05 0 2.83L4 21.41c.39.39.9.59 1.41.59.51 0 1.02-.2 1.41-.59l7.78-7.78 2.81-2.81c.8-.78.8-2.07 0-2.86zM5.41 20L4 18.59l7.72-7.72 1.47 1.35L5.41 20z\"/>\n",
              "  </svg>\n",
              "      </button>\n",
              "\n",
              "\n",
              "\n",
              "    <div id=\"df-657e4e4f-6577-46f3-95da-ce152f3a81a7\">\n",
              "      <button class=\"colab-df-quickchart\" onclick=\"quickchart('df-657e4e4f-6577-46f3-95da-ce152f3a81a7')\"\n",
              "              title=\"Suggest charts.\"\n",
              "              style=\"display:none;\">\n",
              "\n",
              "<svg xmlns=\"http://www.w3.org/2000/svg\" height=\"24px\"viewBox=\"0 0 24 24\"\n",
              "     width=\"24px\">\n",
              "    <g>\n",
              "        <path d=\"M19 3H5c-1.1 0-2 .9-2 2v14c0 1.1.9 2 2 2h14c1.1 0 2-.9 2-2V5c0-1.1-.9-2-2-2zM9 17H7v-7h2v7zm4 0h-2V7h2v10zm4 0h-2v-4h2v4z\"/>\n",
              "    </g>\n",
              "</svg>\n",
              "      </button>\n",
              "    </div>\n",
              "\n",
              "<style>\n",
              "  .colab-df-quickchart {\n",
              "    background-color: #E8F0FE;\n",
              "    border: none;\n",
              "    border-radius: 50%;\n",
              "    cursor: pointer;\n",
              "    display: none;\n",
              "    fill: #1967D2;\n",
              "    height: 32px;\n",
              "    padding: 0 0 0 0;\n",
              "    width: 32px;\n",
              "  }\n",
              "\n",
              "  .colab-df-quickchart:hover {\n",
              "    background-color: #E2EBFA;\n",
              "    box-shadow: 0px 1px 2px rgba(60, 64, 67, 0.3), 0px 1px 3px 1px rgba(60, 64, 67, 0.15);\n",
              "    fill: #174EA6;\n",
              "  }\n",
              "\n",
              "  [theme=dark] .colab-df-quickchart {\n",
              "    background-color: #3B4455;\n",
              "    fill: #D2E3FC;\n",
              "  }\n",
              "\n",
              "  [theme=dark] .colab-df-quickchart:hover {\n",
              "    background-color: #434B5C;\n",
              "    box-shadow: 0px 1px 3px 1px rgba(0, 0, 0, 0.15);\n",
              "    filter: drop-shadow(0px 1px 2px rgba(0, 0, 0, 0.3));\n",
              "    fill: #FFFFFF;\n",
              "  }\n",
              "</style>\n",
              "\n",
              "    <script>\n",
              "      async function quickchart(key) {\n",
              "        const containerElement = document.querySelector('#' + key);\n",
              "        const charts = await google.colab.kernel.invokeFunction(\n",
              "            'suggestCharts', [key], {});\n",
              "      }\n",
              "    </script>\n",
              "\n",
              "      <script>\n",
              "\n",
              "function displayQuickchartButton(domScope) {\n",
              "  let quickchartButtonEl =\n",
              "    domScope.querySelector('#df-657e4e4f-6577-46f3-95da-ce152f3a81a7 button.colab-df-quickchart');\n",
              "  quickchartButtonEl.style.display =\n",
              "    google.colab.kernel.accessAllowed ? 'block' : 'none';\n",
              "}\n",
              "\n",
              "        displayQuickchartButton(document);\n",
              "      </script>\n",
              "      <style>\n",
              "    .colab-df-container {\n",
              "      display:flex;\n",
              "      flex-wrap:wrap;\n",
              "      gap: 12px;\n",
              "    }\n",
              "\n",
              "    .colab-df-convert {\n",
              "      background-color: #E8F0FE;\n",
              "      border: none;\n",
              "      border-radius: 50%;\n",
              "      cursor: pointer;\n",
              "      display: none;\n",
              "      fill: #1967D2;\n",
              "      height: 32px;\n",
              "      padding: 0 0 0 0;\n",
              "      width: 32px;\n",
              "    }\n",
              "\n",
              "    .colab-df-convert:hover {\n",
              "      background-color: #E2EBFA;\n",
              "      box-shadow: 0px 1px 2px rgba(60, 64, 67, 0.3), 0px 1px 3px 1px rgba(60, 64, 67, 0.15);\n",
              "      fill: #174EA6;\n",
              "    }\n",
              "\n",
              "    [theme=dark] .colab-df-convert {\n",
              "      background-color: #3B4455;\n",
              "      fill: #D2E3FC;\n",
              "    }\n",
              "\n",
              "    [theme=dark] .colab-df-convert:hover {\n",
              "      background-color: #434B5C;\n",
              "      box-shadow: 0px 1px 3px 1px rgba(0, 0, 0, 0.15);\n",
              "      filter: drop-shadow(0px 1px 2px rgba(0, 0, 0, 0.3));\n",
              "      fill: #FFFFFF;\n",
              "    }\n",
              "  </style>\n",
              "\n",
              "      <script>\n",
              "        const buttonEl =\n",
              "          document.querySelector('#df-95d37e56-c475-40e4-8d46-2b031d2efb55 button.colab-df-convert');\n",
              "        buttonEl.style.display =\n",
              "          google.colab.kernel.accessAllowed ? 'block' : 'none';\n",
              "\n",
              "        async function convertToInteractive(key) {\n",
              "          const element = document.querySelector('#df-95d37e56-c475-40e4-8d46-2b031d2efb55');\n",
              "          const dataTable =\n",
              "            await google.colab.kernel.invokeFunction('convertToInteractive',\n",
              "                                                     [key], {});\n",
              "          if (!dataTable) return;\n",
              "\n",
              "          const docLinkHtml = 'Like what you see? Visit the ' +\n",
              "            '<a target=\"_blank\" href=https://colab.research.google.com/notebooks/data_table.ipynb>data table notebook</a>'\n",
              "            + ' to learn more about interactive tables.';\n",
              "          element.innerHTML = '';\n",
              "          dataTable['output_type'] = 'display_data';\n",
              "          await google.colab.output.renderOutput(dataTable, element);\n",
              "          const docLink = document.createElement('div');\n",
              "          docLink.innerHTML = docLinkHtml;\n",
              "          element.appendChild(docLink);\n",
              "        }\n",
              "      </script>\n",
              "    </div>\n",
              "  </div>\n"
            ]
          },
          "metadata": {},
          "execution_count": 17
        }
      ],
      "source": [
        "sql_query.drop_duplicates()"
      ]
    },
    {
      "cell_type": "markdown",
      "metadata": {
        "id": "N6X17mboqHWk"
      },
      "source": [
        "la cantidad de lineas sigue siendo la misma (2047) por lo que en efecto, no habia duplicados."
      ]
    },
    {
      "cell_type": "code",
      "execution_count": null,
      "metadata": {
        "colab": {
          "base_uri": "https://localhost:8080/"
        },
        "id": "A7UF6fHydqMJ",
        "outputId": "b28da475-21f8-420d-e01e-c915ac90eacd"
      },
      "outputs": [
        {
          "output_type": "execute_result",
          "data": {
            "text/plain": [
              "Year\n",
              "2010    165\n",
              "2011    166\n",
              "2012    152\n",
              "2013    169\n",
              "2014    164\n",
              "2015    160\n",
              "2016    174\n",
              "2017    167\n",
              "2018    145\n",
              "2019    155\n",
              "Name: Rider, dtype: int64"
            ]
          },
          "metadata": {},
          "execution_count": 18
        }
      ],
      "source": [
        "finishers_per_year = sql_query.groupby('Year')['Rider'].count()\n",
        "finishers_per_year"
      ]
    },
    {
      "cell_type": "markdown",
      "metadata": {
        "id": "HFuUsB-HGue0"
      },
      "source": [
        "## Limpieza de datos"
      ]
    },
    {
      "cell_type": "markdown",
      "metadata": {
        "id": "9dUMcH6NgBuN"
      },
      "source": [
        " pasare el peso a int para luego poder hacer metricas\n",
        "\n",
        "\n",
        "\n"
      ]
    },
    {
      "cell_type": "code",
      "execution_count": null,
      "metadata": {
        "id": "PNtcpZvxkr0k"
      },
      "outputs": [],
      "source": [
        "sql_query['Weight'] = sql_query['Weight'].str.replace('kg', '')"
      ]
    },
    {
      "cell_type": "code",
      "execution_count": null,
      "metadata": {
        "id": "fBVkK_QogGXr"
      },
      "outputs": [],
      "source": [
        "sql_query ['Weight'] = sql_query['Weight'].astype(int)"
      ]
    },
    {
      "cell_type": "markdown",
      "metadata": {
        "id": "XRWPPggDvyy8"
      },
      "source": [
        "pasare la altura (Height) a float para poder hacer metricas."
      ]
    },
    {
      "cell_type": "code",
      "execution_count": null,
      "metadata": {
        "id": "TcEf0MrtwByo"
      },
      "outputs": [],
      "source": [
        "sql_query['Height'] = sql_query['Height'].str.replace('m', '')"
      ]
    },
    {
      "cell_type": "code",
      "execution_count": null,
      "metadata": {
        "id": "z4qP5ZCywEC2"
      },
      "outputs": [],
      "source": [
        "sql_query ['Height'] = sql_query['Height'].astype(float)"
      ]
    },
    {
      "cell_type": "markdown",
      "metadata": {
        "id": "mE2Lhu4dZN1C"
      },
      "source": [
        "Intento pasar los datos de la columna Time a un formato que me permita calcular la media"
      ]
    },
    {
      "cell_type": "code",
      "execution_count": null,
      "metadata": {
        "colab": {
          "base_uri": "https://localhost:8080/"
        },
        "id": "Q64NWC5tco5e",
        "outputId": "a261351d-8b80-4d87-eeb3-ad8c7fa4b451"
      },
      "outputs": [
        {
          "output_type": "stream",
          "name": "stdout",
          "text": [
            "180.374933\n"
          ]
        }
      ],
      "source": [
        "\n",
        "import re\n",
        "\n",
        "# Convert the 'Time' column to string type\n",
        "sql_query['Time'] = sql_query['Time'].astype(str)\n",
        "\n",
        "# Extract hours, minutes, and seconds using regular expressions\n",
        "time_components = sql_query['Time'].str.extract(r\"(\\+|-)?(\\d+)h (\\d+)' (\\d+)\\\"\")\n",
        "\n",
        "# Convert extracted components to numeric values\n",
        "sign = time_components[0].fillna('')\n",
        "hours = pd.to_numeric(time_components[1].fillna(0), errors='coerce')\n",
        "minutes = pd.to_numeric(time_components[2].fillna(0), errors='coerce')\n",
        "seconds = pd.to_numeric(time_components[3].fillna(0), errors='coerce')\n",
        "\n",
        "# Create a new timedelta column based on the extracted components\n",
        "time_timedelta = pd.to_timedelta(hours, unit='h') + pd.to_timedelta(minutes, unit='m') + pd.to_timedelta(seconds, unit='s')\n",
        "\n",
        "# Apply the sign to adjust the time values\n",
        "time_timedelta *= time_timedelta.dt.total_seconds().apply(lambda x: -1 if x < 0 else 1) * (sign.apply(lambda x: -1 if x == '-' else 1))\n",
        "\n",
        "# Calculate the mean time in minutes\n",
        "mean_time_minutes = time_timedelta.mean().total_seconds() / 60\n",
        "\n",
        "print(mean_time_minutes)\n",
        "\n",
        "\n",
        "\n",
        "\n",
        "\n",
        "\n",
        "\n",
        "\n",
        "\n",
        "\n",
        "\n"
      ]
    },
    {
      "cell_type": "markdown",
      "metadata": {
        "id": "U-tmMcWupPM5"
      },
      "source": [
        "la media de la columna Time es de 190,64 minutos. Esto es el tiempo extra promedio de arrivo luego del ciclista que termino la carrera primero"
      ]
    },
    {
      "cell_type": "code",
      "execution_count": null,
      "metadata": {
        "colab": {
          "base_uri": "https://localhost:8080/"
        },
        "id": "ctERUmXrlF_Y",
        "outputId": "8f7d512c-a086-49c8-c4db-43a6fc6ca114"
      },
      "outputs": [
        {
          "output_type": "execute_result",
          "data": {
            "text/plain": [
              "1        91h 59' 27\"\n",
              "3           + 3' 01\"\n",
              "4           + 6' 15\"\n",
              "5           + 8' 52\"\n",
              "6           + 9' 36\"\n",
              "            ...     \n",
              "1620    + 4h 14' 39\"\n",
              "1621    + 4h 19' 33\"\n",
              "1622    + 4h 29' 07\"\n",
              "1623    + 4h 31' 43\"\n",
              "1624    + 4h 34' 23\"\n",
              "Name: Time, Length: 1617, dtype: object"
            ]
          },
          "metadata": {},
          "execution_count": 24
        }
      ],
      "source": [
        "sql_query['Time']"
      ]
    },
    {
      "cell_type": "markdown",
      "metadata": {
        "id": "9dFCrlvl76b-"
      },
      "source": [
        "**Eliminar columnas repetidas y que no sirven:**"
      ]
    },
    {
      "cell_type": "code",
      "execution_count": null,
      "metadata": {
        "colab": {
          "base_uri": "https://localhost:8080/",
          "height": 245
        },
        "id": "V6sL8z4pMzUJ",
        "outputId": "1e537100-8c8b-46fb-8233-c12fe8a62e2e"
      },
      "outputs": [
        {
          "output_type": "execute_result",
          "data": {
            "text/plain": [
              "   Year  Rank                 Rider         Time               Team  Year.1  \\\n",
              "1  2010   1.0    Andy Schleck (LUX)  91h 59' 27\"     Team Saxo Bank    2010   \n",
              "3  2010   2.0  Samuel Sánchez (ESP)     + 3' 01\"  Euskaltel–Euskadi    2010   \n",
              "\n",
              "      Country       Rider.1          Team.1       Time.1    Margin  \\\n",
              "1  Luxembourg  Andy Schleck  Team Saxo Bank  91h 59' 27\"  + 1' 22\"   \n",
              "3  Luxembourg  Andy Schleck  Team Saxo Bank  91h 59' 27\"  + 1' 22\"   \n",
              "\n",
              "   Stages_Won  Stages_Led Avg_Speed  Height  Weight        Born  Died  \n",
              "1           2        12.0  39.6km/h    1.86      68  1985-06-10   NaN  \n",
              "3           2        12.0  39.6km/h    1.86      68  1985-06-10   NaN  "
            ],
            "text/html": [
              "\n",
              "\n",
              "  <div id=\"df-d4373396-d51e-48d6-add2-4acb7cf393e2\">\n",
              "    <div class=\"colab-df-container\">\n",
              "      <div>\n",
              "<style scoped>\n",
              "    .dataframe tbody tr th:only-of-type {\n",
              "        vertical-align: middle;\n",
              "    }\n",
              "\n",
              "    .dataframe tbody tr th {\n",
              "        vertical-align: top;\n",
              "    }\n",
              "\n",
              "    .dataframe thead th {\n",
              "        text-align: right;\n",
              "    }\n",
              "</style>\n",
              "<table border=\"1\" class=\"dataframe\">\n",
              "  <thead>\n",
              "    <tr style=\"text-align: right;\">\n",
              "      <th></th>\n",
              "      <th>Year</th>\n",
              "      <th>Rank</th>\n",
              "      <th>Rider</th>\n",
              "      <th>Time</th>\n",
              "      <th>Team</th>\n",
              "      <th>Year.1</th>\n",
              "      <th>Country</th>\n",
              "      <th>Rider.1</th>\n",
              "      <th>Team.1</th>\n",
              "      <th>Time.1</th>\n",
              "      <th>Margin</th>\n",
              "      <th>Stages_Won</th>\n",
              "      <th>Stages_Led</th>\n",
              "      <th>Avg_Speed</th>\n",
              "      <th>Height</th>\n",
              "      <th>Weight</th>\n",
              "      <th>Born</th>\n",
              "      <th>Died</th>\n",
              "    </tr>\n",
              "  </thead>\n",
              "  <tbody>\n",
              "    <tr>\n",
              "      <th>1</th>\n",
              "      <td>2010</td>\n",
              "      <td>1.0</td>\n",
              "      <td>Andy Schleck (LUX)</td>\n",
              "      <td>91h 59' 27\"</td>\n",
              "      <td>Team Saxo Bank</td>\n",
              "      <td>2010</td>\n",
              "      <td>Luxembourg</td>\n",
              "      <td>Andy Schleck</td>\n",
              "      <td>Team Saxo Bank</td>\n",
              "      <td>91h 59' 27\"</td>\n",
              "      <td>+ 1' 22\"</td>\n",
              "      <td>2</td>\n",
              "      <td>12.0</td>\n",
              "      <td>39.6km/h</td>\n",
              "      <td>1.86</td>\n",
              "      <td>68</td>\n",
              "      <td>1985-06-10</td>\n",
              "      <td>NaN</td>\n",
              "    </tr>\n",
              "    <tr>\n",
              "      <th>3</th>\n",
              "      <td>2010</td>\n",
              "      <td>2.0</td>\n",
              "      <td>Samuel Sánchez (ESP)</td>\n",
              "      <td>+ 3' 01\"</td>\n",
              "      <td>Euskaltel–Euskadi</td>\n",
              "      <td>2010</td>\n",
              "      <td>Luxembourg</td>\n",
              "      <td>Andy Schleck</td>\n",
              "      <td>Team Saxo Bank</td>\n",
              "      <td>91h 59' 27\"</td>\n",
              "      <td>+ 1' 22\"</td>\n",
              "      <td>2</td>\n",
              "      <td>12.0</td>\n",
              "      <td>39.6km/h</td>\n",
              "      <td>1.86</td>\n",
              "      <td>68</td>\n",
              "      <td>1985-06-10</td>\n",
              "      <td>NaN</td>\n",
              "    </tr>\n",
              "  </tbody>\n",
              "</table>\n",
              "</div>\n",
              "      <button class=\"colab-df-convert\" onclick=\"convertToInteractive('df-d4373396-d51e-48d6-add2-4acb7cf393e2')\"\n",
              "              title=\"Convert this dataframe to an interactive table.\"\n",
              "              style=\"display:none;\">\n",
              "\n",
              "  <svg xmlns=\"http://www.w3.org/2000/svg\" height=\"24px\"viewBox=\"0 0 24 24\"\n",
              "       width=\"24px\">\n",
              "    <path d=\"M0 0h24v24H0V0z\" fill=\"none\"/>\n",
              "    <path d=\"M18.56 5.44l.94 2.06.94-2.06 2.06-.94-2.06-.94-.94-2.06-.94 2.06-2.06.94zm-11 1L8.5 8.5l.94-2.06 2.06-.94-2.06-.94L8.5 2.5l-.94 2.06-2.06.94zm10 10l.94 2.06.94-2.06 2.06-.94-2.06-.94-.94-2.06-.94 2.06-2.06.94z\"/><path d=\"M17.41 7.96l-1.37-1.37c-.4-.4-.92-.59-1.43-.59-.52 0-1.04.2-1.43.59L10.3 9.45l-7.72 7.72c-.78.78-.78 2.05 0 2.83L4 21.41c.39.39.9.59 1.41.59.51 0 1.02-.2 1.41-.59l7.78-7.78 2.81-2.81c.8-.78.8-2.07 0-2.86zM5.41 20L4 18.59l7.72-7.72 1.47 1.35L5.41 20z\"/>\n",
              "  </svg>\n",
              "      </button>\n",
              "\n",
              "\n",
              "\n",
              "    <div id=\"df-6877444f-7e2b-4998-a44f-4ffe46217166\">\n",
              "      <button class=\"colab-df-quickchart\" onclick=\"quickchart('df-6877444f-7e2b-4998-a44f-4ffe46217166')\"\n",
              "              title=\"Suggest charts.\"\n",
              "              style=\"display:none;\">\n",
              "\n",
              "<svg xmlns=\"http://www.w3.org/2000/svg\" height=\"24px\"viewBox=\"0 0 24 24\"\n",
              "     width=\"24px\">\n",
              "    <g>\n",
              "        <path d=\"M19 3H5c-1.1 0-2 .9-2 2v14c0 1.1.9 2 2 2h14c1.1 0 2-.9 2-2V5c0-1.1-.9-2-2-2zM9 17H7v-7h2v7zm4 0h-2V7h2v10zm4 0h-2v-4h2v4z\"/>\n",
              "    </g>\n",
              "</svg>\n",
              "      </button>\n",
              "    </div>\n",
              "\n",
              "<style>\n",
              "  .colab-df-quickchart {\n",
              "    background-color: #E8F0FE;\n",
              "    border: none;\n",
              "    border-radius: 50%;\n",
              "    cursor: pointer;\n",
              "    display: none;\n",
              "    fill: #1967D2;\n",
              "    height: 32px;\n",
              "    padding: 0 0 0 0;\n",
              "    width: 32px;\n",
              "  }\n",
              "\n",
              "  .colab-df-quickchart:hover {\n",
              "    background-color: #E2EBFA;\n",
              "    box-shadow: 0px 1px 2px rgba(60, 64, 67, 0.3), 0px 1px 3px 1px rgba(60, 64, 67, 0.15);\n",
              "    fill: #174EA6;\n",
              "  }\n",
              "\n",
              "  [theme=dark] .colab-df-quickchart {\n",
              "    background-color: #3B4455;\n",
              "    fill: #D2E3FC;\n",
              "  }\n",
              "\n",
              "  [theme=dark] .colab-df-quickchart:hover {\n",
              "    background-color: #434B5C;\n",
              "    box-shadow: 0px 1px 3px 1px rgba(0, 0, 0, 0.15);\n",
              "    filter: drop-shadow(0px 1px 2px rgba(0, 0, 0, 0.3));\n",
              "    fill: #FFFFFF;\n",
              "  }\n",
              "</style>\n",
              "\n",
              "    <script>\n",
              "      async function quickchart(key) {\n",
              "        const containerElement = document.querySelector('#' + key);\n",
              "        const charts = await google.colab.kernel.invokeFunction(\n",
              "            'suggestCharts', [key], {});\n",
              "      }\n",
              "    </script>\n",
              "\n",
              "      <script>\n",
              "\n",
              "function displayQuickchartButton(domScope) {\n",
              "  let quickchartButtonEl =\n",
              "    domScope.querySelector('#df-6877444f-7e2b-4998-a44f-4ffe46217166 button.colab-df-quickchart');\n",
              "  quickchartButtonEl.style.display =\n",
              "    google.colab.kernel.accessAllowed ? 'block' : 'none';\n",
              "}\n",
              "\n",
              "        displayQuickchartButton(document);\n",
              "      </script>\n",
              "      <style>\n",
              "    .colab-df-container {\n",
              "      display:flex;\n",
              "      flex-wrap:wrap;\n",
              "      gap: 12px;\n",
              "    }\n",
              "\n",
              "    .colab-df-convert {\n",
              "      background-color: #E8F0FE;\n",
              "      border: none;\n",
              "      border-radius: 50%;\n",
              "      cursor: pointer;\n",
              "      display: none;\n",
              "      fill: #1967D2;\n",
              "      height: 32px;\n",
              "      padding: 0 0 0 0;\n",
              "      width: 32px;\n",
              "    }\n",
              "\n",
              "    .colab-df-convert:hover {\n",
              "      background-color: #E2EBFA;\n",
              "      box-shadow: 0px 1px 2px rgba(60, 64, 67, 0.3), 0px 1px 3px 1px rgba(60, 64, 67, 0.15);\n",
              "      fill: #174EA6;\n",
              "    }\n",
              "\n",
              "    [theme=dark] .colab-df-convert {\n",
              "      background-color: #3B4455;\n",
              "      fill: #D2E3FC;\n",
              "    }\n",
              "\n",
              "    [theme=dark] .colab-df-convert:hover {\n",
              "      background-color: #434B5C;\n",
              "      box-shadow: 0px 1px 3px 1px rgba(0, 0, 0, 0.15);\n",
              "      filter: drop-shadow(0px 1px 2px rgba(0, 0, 0, 0.3));\n",
              "      fill: #FFFFFF;\n",
              "    }\n",
              "  </style>\n",
              "\n",
              "      <script>\n",
              "        const buttonEl =\n",
              "          document.querySelector('#df-d4373396-d51e-48d6-add2-4acb7cf393e2 button.colab-df-convert');\n",
              "        buttonEl.style.display =\n",
              "          google.colab.kernel.accessAllowed ? 'block' : 'none';\n",
              "\n",
              "        async function convertToInteractive(key) {\n",
              "          const element = document.querySelector('#df-d4373396-d51e-48d6-add2-4acb7cf393e2');\n",
              "          const dataTable =\n",
              "            await google.colab.kernel.invokeFunction('convertToInteractive',\n",
              "                                                     [key], {});\n",
              "          if (!dataTable) return;\n",
              "\n",
              "          const docLinkHtml = 'Like what you see? Visit the ' +\n",
              "            '<a target=\"_blank\" href=https://colab.research.google.com/notebooks/data_table.ipynb>data table notebook</a>'\n",
              "            + ' to learn more about interactive tables.';\n",
              "          element.innerHTML = '';\n",
              "          dataTable['output_type'] = 'display_data';\n",
              "          await google.colab.output.renderOutput(dataTable, element);\n",
              "          const docLink = document.createElement('div');\n",
              "          docLink.innerHTML = docLinkHtml;\n",
              "          element.appendChild(docLink);\n",
              "        }\n",
              "      </script>\n",
              "    </div>\n",
              "  </div>\n"
            ]
          },
          "metadata": {},
          "execution_count": 25
        }
      ],
      "source": [
        "sql_query.head(2)"
      ]
    },
    {
      "cell_type": "code",
      "execution_count": null,
      "metadata": {
        "colab": {
          "base_uri": "https://localhost:8080/"
        },
        "id": "QdjKnuDlHy_8",
        "outputId": "08abd3ff-a148-4a0e-9e47-196ebd99b29e"
      },
      "outputs": [
        {
          "output_type": "execute_result",
          "data": {
            "text/plain": [
              "array(['Team Saxo Bank', 'Euskaltel–Euskadi', 'Omega Pharma–Lotto',\n",
              "       'Rabobank', 'Garmin–Transitions', 'Team Katusha', 'Liquigas–Doimo',\n",
              "       'Team RadioShack', \"Caisse d'Epargne\", 'Ag2r–La Mondiale',\n",
              "       'Astana', 'Team Sky', 'Quick-Step', 'Cervélo TestTeam', 'FDJ',\n",
              "       'BMC Racing Team', 'Cofidis', 'Lampre–Farnese',\n",
              "       'Team HTC–Columbia', 'Bbox Bouygues Telecom',\n",
              "       'Footon–Servetto–Fuji', 'Team Milram', 'Leopard Trek',\n",
              "       'Team Europcar', 'Lampre–ISD', 'Liquigas–Cannondale',\n",
              "       'Garmin–Cervélo', 'Saur–Sojasun', 'HTC–Highroad',\n",
              "       'Vacansoleil–DCM', nan, 'Movistar Team', 'Saxo Bank–SunGard',\n",
              "       'Lotto–Belisol', 'RadioShack–Nissan', 'FDJ–BigMat',\n",
              "       'Saxo Bank–Tinkoff Bank', 'Omega Pharma–Quick-Step',\n",
              "       'Garmin–Sharp', 'Orica–GreenEDGE', 'Argos–Shimano', 'Saxo–Tinkoff',\n",
              "       'Belkin Pro Cycling', 'RadioShack–Leopard', 'Lampre–Merida',\n",
              "       'FDJ.fr', 'Sojasun', 'Cannondale', 'NetApp–Endura',\n",
              "       'Trek Factory Racing', 'Bretagne–Séché Environnement',\n",
              "       'Tinkoff–Saxo', 'IAM Cycling', 'Giant–Shimano', 'LottoNL–Jumbo',\n",
              "       'AG2R La Mondiale', 'Cannondale–Garmin', 'MTN–Qhubeka',\n",
              "       'Team Giant–Alpecin', 'Bora–Argon 18', 'Lotto–Soudal',\n",
              "       'Etixx–Quick-Step', 'Orica–BikeExchange', 'Tinkoff',\n",
              "       'Trek–Segafredo', 'Cannondale–Drapac', 'Team Dimension Data',\n",
              "       'Direct Énergie', 'Fortuneo–Vital Concept', 'Quick-Step Floors',\n",
              "       'Orica–Scott', 'UAE Team Emirates', 'Team Sunweb',\n",
              "       'Bora–Hansgrohe', 'Fortuneo–Oscaro', 'Wanty–Groupe Gobert',\n",
              "       'Team Katusha–Alpecin', 'Bahrain–Merida', 'Fortuneo–Samsic',\n",
              "       'Mitchelton–Scott', 'EF Education First–Drapac p/b Cannondale',\n",
              "       'Groupama–FDJ', 'Team Ineos', 'Team Jumbo–Visma',\n",
              "       'Deceuninck–Quick-Step', 'EF Education First', 'Arkéa–Samsic',\n",
              "       'Wanty–Gobert', 'CCC Team', 'Total Direct Énergie'], dtype=object)"
            ]
          },
          "metadata": {},
          "execution_count": 26
        }
      ],
      "source": [
        "sql_query['Team'].unique()"
      ]
    },
    {
      "cell_type": "code",
      "execution_count": null,
      "metadata": {
        "colab": {
          "base_uri": "https://localhost:8080/"
        },
        "id": "ZmL6ts5YmTV5",
        "outputId": "4f9476bd-a0d2-464a-c800-7b3c4949db3a"
      },
      "outputs": [
        {
          "output_type": "execute_result",
          "data": {
            "text/plain": [
              "89"
            ]
          },
          "metadata": {},
          "execution_count": 27
        }
      ],
      "source": [
        "sql_query['Team'].nunique()"
      ]
    },
    {
      "cell_type": "code",
      "execution_count": null,
      "metadata": {
        "colab": {
          "base_uri": "https://localhost:8080/"
        },
        "id": "LFHehsJVlqLn",
        "outputId": "382e3318-0710-426a-ecd9-c9f7b735b8a8"
      },
      "outputs": [
        {
          "output_type": "execute_result",
          "data": {
            "text/plain": [
              "Cofidis                 75\n",
              "Astana                  72\n",
              "Team Sky                70\n",
              "BMC Racing Team         70\n",
              "Movistar Team           67\n",
              "                        ..\n",
              "RadioShack–Nissan        6\n",
              "Team Jumbo–Visma         6\n",
              "Garmin–Transitions       6\n",
              "CCC Team                 6\n",
              "Footon–Servetto–Fuji     5\n",
              "Name: Team, Length: 89, dtype: int64"
            ]
          },
          "metadata": {},
          "execution_count": 28
        }
      ],
      "source": [
        "sql_query ['Team'].value_counts()"
      ]
    },
    {
      "cell_type": "code",
      "execution_count": null,
      "metadata": {
        "id": "kteSkGd4GzyH"
      },
      "outputs": [],
      "source": [
        "sql_query=sql_query.rename(columns={'Rider.1': 'Winner'}) ##esta columna es el ganador de la tabla de winners"
      ]
    },
    {
      "cell_type": "code",
      "execution_count": null,
      "metadata": {
        "id": "HGNSZWp6NxdB"
      },
      "outputs": [],
      "source": [
        "sql_query=sql_query.rename(columns={'Rider': 'Finishers'}) ##esta columna son los que terminaron la carrera de la tabla de Finishers"
      ]
    },
    {
      "cell_type": "code",
      "execution_count": null,
      "metadata": {
        "id": "FjW-dMPrP_aS"
      },
      "outputs": [],
      "source": [
        "sql_query=sql_query.drop(columns={'Time.1'}) ##esta columna hace referencia al tiempo de carrera del ganador. Esta informacion ya la tengo el la columna Time, por lo que no la necesito en una columna separada."
      ]
    },
    {
      "cell_type": "code",
      "execution_count": null,
      "metadata": {
        "id": "C7pwVZo8xRRM"
      },
      "outputs": [],
      "source": [
        "sql_query=sql_query.rename(columns={'Team.1': 'Equipo del ganador'}) ##esta columna es el equipo al que pertence el ganador de la carrera"
      ]
    },
    {
      "cell_type": "code",
      "execution_count": null,
      "metadata": {
        "id": "bFYpFV_6cNWc"
      },
      "outputs": [],
      "source": [
        "sql_query = sql_query.drop(['Year.1'], axis=1) ## esta columna continene el anio en el que el ciclista gano la carrera. este dato ya esta presente en la columna Year.\n"
      ]
    },
    {
      "cell_type": "code",
      "execution_count": null,
      "metadata": {
        "colab": {
          "base_uri": "https://localhost:8080/",
          "height": 260
        },
        "id": "FqkB6X2VNnLl",
        "outputId": "f015f4cb-86da-4d0c-b89f-c409cff13f9c"
      },
      "outputs": [
        {
          "output_type": "execute_result",
          "data": {
            "text/plain": [
              "   Year  Rank             Finishers         Time               Team  \\\n",
              "1  2010   1.0    Andy Schleck (LUX)  91h 59' 27\"     Team Saxo Bank   \n",
              "3  2010   2.0  Samuel Sánchez (ESP)     + 3' 01\"  Euskaltel–Euskadi   \n",
              "\n",
              "      Country        Winner Equipo del ganador    Margin  Stages_Won  \\\n",
              "1  Luxembourg  Andy Schleck     Team Saxo Bank  + 1' 22\"           2   \n",
              "3  Luxembourg  Andy Schleck     Team Saxo Bank  + 1' 22\"           2   \n",
              "\n",
              "   Stages_Led Avg_Speed  Height  Weight        Born  Died  \n",
              "1        12.0  39.6km/h    1.86      68  1985-06-10   NaN  \n",
              "3        12.0  39.6km/h    1.86      68  1985-06-10   NaN  "
            ],
            "text/html": [
              "\n",
              "\n",
              "  <div id=\"df-f248a0ea-ca8b-4563-9bf9-20879f2b9b38\">\n",
              "    <div class=\"colab-df-container\">\n",
              "      <div>\n",
              "<style scoped>\n",
              "    .dataframe tbody tr th:only-of-type {\n",
              "        vertical-align: middle;\n",
              "    }\n",
              "\n",
              "    .dataframe tbody tr th {\n",
              "        vertical-align: top;\n",
              "    }\n",
              "\n",
              "    .dataframe thead th {\n",
              "        text-align: right;\n",
              "    }\n",
              "</style>\n",
              "<table border=\"1\" class=\"dataframe\">\n",
              "  <thead>\n",
              "    <tr style=\"text-align: right;\">\n",
              "      <th></th>\n",
              "      <th>Year</th>\n",
              "      <th>Rank</th>\n",
              "      <th>Finishers</th>\n",
              "      <th>Time</th>\n",
              "      <th>Team</th>\n",
              "      <th>Country</th>\n",
              "      <th>Winner</th>\n",
              "      <th>Equipo del ganador</th>\n",
              "      <th>Margin</th>\n",
              "      <th>Stages_Won</th>\n",
              "      <th>Stages_Led</th>\n",
              "      <th>Avg_Speed</th>\n",
              "      <th>Height</th>\n",
              "      <th>Weight</th>\n",
              "      <th>Born</th>\n",
              "      <th>Died</th>\n",
              "    </tr>\n",
              "  </thead>\n",
              "  <tbody>\n",
              "    <tr>\n",
              "      <th>1</th>\n",
              "      <td>2010</td>\n",
              "      <td>1.0</td>\n",
              "      <td>Andy Schleck (LUX)</td>\n",
              "      <td>91h 59' 27\"</td>\n",
              "      <td>Team Saxo Bank</td>\n",
              "      <td>Luxembourg</td>\n",
              "      <td>Andy Schleck</td>\n",
              "      <td>Team Saxo Bank</td>\n",
              "      <td>+ 1' 22\"</td>\n",
              "      <td>2</td>\n",
              "      <td>12.0</td>\n",
              "      <td>39.6km/h</td>\n",
              "      <td>1.86</td>\n",
              "      <td>68</td>\n",
              "      <td>1985-06-10</td>\n",
              "      <td>NaN</td>\n",
              "    </tr>\n",
              "    <tr>\n",
              "      <th>3</th>\n",
              "      <td>2010</td>\n",
              "      <td>2.0</td>\n",
              "      <td>Samuel Sánchez (ESP)</td>\n",
              "      <td>+ 3' 01\"</td>\n",
              "      <td>Euskaltel–Euskadi</td>\n",
              "      <td>Luxembourg</td>\n",
              "      <td>Andy Schleck</td>\n",
              "      <td>Team Saxo Bank</td>\n",
              "      <td>+ 1' 22\"</td>\n",
              "      <td>2</td>\n",
              "      <td>12.0</td>\n",
              "      <td>39.6km/h</td>\n",
              "      <td>1.86</td>\n",
              "      <td>68</td>\n",
              "      <td>1985-06-10</td>\n",
              "      <td>NaN</td>\n",
              "    </tr>\n",
              "  </tbody>\n",
              "</table>\n",
              "</div>\n",
              "      <button class=\"colab-df-convert\" onclick=\"convertToInteractive('df-f248a0ea-ca8b-4563-9bf9-20879f2b9b38')\"\n",
              "              title=\"Convert this dataframe to an interactive table.\"\n",
              "              style=\"display:none;\">\n",
              "\n",
              "  <svg xmlns=\"http://www.w3.org/2000/svg\" height=\"24px\"viewBox=\"0 0 24 24\"\n",
              "       width=\"24px\">\n",
              "    <path d=\"M0 0h24v24H0V0z\" fill=\"none\"/>\n",
              "    <path d=\"M18.56 5.44l.94 2.06.94-2.06 2.06-.94-2.06-.94-.94-2.06-.94 2.06-2.06.94zm-11 1L8.5 8.5l.94-2.06 2.06-.94-2.06-.94L8.5 2.5l-.94 2.06-2.06.94zm10 10l.94 2.06.94-2.06 2.06-.94-2.06-.94-.94-2.06-.94 2.06-2.06.94z\"/><path d=\"M17.41 7.96l-1.37-1.37c-.4-.4-.92-.59-1.43-.59-.52 0-1.04.2-1.43.59L10.3 9.45l-7.72 7.72c-.78.78-.78 2.05 0 2.83L4 21.41c.39.39.9.59 1.41.59.51 0 1.02-.2 1.41-.59l7.78-7.78 2.81-2.81c.8-.78.8-2.07 0-2.86zM5.41 20L4 18.59l7.72-7.72 1.47 1.35L5.41 20z\"/>\n",
              "  </svg>\n",
              "      </button>\n",
              "\n",
              "\n",
              "\n",
              "    <div id=\"df-b12f9903-f8cd-491e-9d2f-7f16c8ed63da\">\n",
              "      <button class=\"colab-df-quickchart\" onclick=\"quickchart('df-b12f9903-f8cd-491e-9d2f-7f16c8ed63da')\"\n",
              "              title=\"Suggest charts.\"\n",
              "              style=\"display:none;\">\n",
              "\n",
              "<svg xmlns=\"http://www.w3.org/2000/svg\" height=\"24px\"viewBox=\"0 0 24 24\"\n",
              "     width=\"24px\">\n",
              "    <g>\n",
              "        <path d=\"M19 3H5c-1.1 0-2 .9-2 2v14c0 1.1.9 2 2 2h14c1.1 0 2-.9 2-2V5c0-1.1-.9-2-2-2zM9 17H7v-7h2v7zm4 0h-2V7h2v10zm4 0h-2v-4h2v4z\"/>\n",
              "    </g>\n",
              "</svg>\n",
              "      </button>\n",
              "    </div>\n",
              "\n",
              "<style>\n",
              "  .colab-df-quickchart {\n",
              "    background-color: #E8F0FE;\n",
              "    border: none;\n",
              "    border-radius: 50%;\n",
              "    cursor: pointer;\n",
              "    display: none;\n",
              "    fill: #1967D2;\n",
              "    height: 32px;\n",
              "    padding: 0 0 0 0;\n",
              "    width: 32px;\n",
              "  }\n",
              "\n",
              "  .colab-df-quickchart:hover {\n",
              "    background-color: #E2EBFA;\n",
              "    box-shadow: 0px 1px 2px rgba(60, 64, 67, 0.3), 0px 1px 3px 1px rgba(60, 64, 67, 0.15);\n",
              "    fill: #174EA6;\n",
              "  }\n",
              "\n",
              "  [theme=dark] .colab-df-quickchart {\n",
              "    background-color: #3B4455;\n",
              "    fill: #D2E3FC;\n",
              "  }\n",
              "\n",
              "  [theme=dark] .colab-df-quickchart:hover {\n",
              "    background-color: #434B5C;\n",
              "    box-shadow: 0px 1px 3px 1px rgba(0, 0, 0, 0.15);\n",
              "    filter: drop-shadow(0px 1px 2px rgba(0, 0, 0, 0.3));\n",
              "    fill: #FFFFFF;\n",
              "  }\n",
              "</style>\n",
              "\n",
              "    <script>\n",
              "      async function quickchart(key) {\n",
              "        const containerElement = document.querySelector('#' + key);\n",
              "        const charts = await google.colab.kernel.invokeFunction(\n",
              "            'suggestCharts', [key], {});\n",
              "      }\n",
              "    </script>\n",
              "\n",
              "      <script>\n",
              "\n",
              "function displayQuickchartButton(domScope) {\n",
              "  let quickchartButtonEl =\n",
              "    domScope.querySelector('#df-b12f9903-f8cd-491e-9d2f-7f16c8ed63da button.colab-df-quickchart');\n",
              "  quickchartButtonEl.style.display =\n",
              "    google.colab.kernel.accessAllowed ? 'block' : 'none';\n",
              "}\n",
              "\n",
              "        displayQuickchartButton(document);\n",
              "      </script>\n",
              "      <style>\n",
              "    .colab-df-container {\n",
              "      display:flex;\n",
              "      flex-wrap:wrap;\n",
              "      gap: 12px;\n",
              "    }\n",
              "\n",
              "    .colab-df-convert {\n",
              "      background-color: #E8F0FE;\n",
              "      border: none;\n",
              "      border-radius: 50%;\n",
              "      cursor: pointer;\n",
              "      display: none;\n",
              "      fill: #1967D2;\n",
              "      height: 32px;\n",
              "      padding: 0 0 0 0;\n",
              "      width: 32px;\n",
              "    }\n",
              "\n",
              "    .colab-df-convert:hover {\n",
              "      background-color: #E2EBFA;\n",
              "      box-shadow: 0px 1px 2px rgba(60, 64, 67, 0.3), 0px 1px 3px 1px rgba(60, 64, 67, 0.15);\n",
              "      fill: #174EA6;\n",
              "    }\n",
              "\n",
              "    [theme=dark] .colab-df-convert {\n",
              "      background-color: #3B4455;\n",
              "      fill: #D2E3FC;\n",
              "    }\n",
              "\n",
              "    [theme=dark] .colab-df-convert:hover {\n",
              "      background-color: #434B5C;\n",
              "      box-shadow: 0px 1px 3px 1px rgba(0, 0, 0, 0.15);\n",
              "      filter: drop-shadow(0px 1px 2px rgba(0, 0, 0, 0.3));\n",
              "      fill: #FFFFFF;\n",
              "    }\n",
              "  </style>\n",
              "\n",
              "      <script>\n",
              "        const buttonEl =\n",
              "          document.querySelector('#df-f248a0ea-ca8b-4563-9bf9-20879f2b9b38 button.colab-df-convert');\n",
              "        buttonEl.style.display =\n",
              "          google.colab.kernel.accessAllowed ? 'block' : 'none';\n",
              "\n",
              "        async function convertToInteractive(key) {\n",
              "          const element = document.querySelector('#df-f248a0ea-ca8b-4563-9bf9-20879f2b9b38');\n",
              "          const dataTable =\n",
              "            await google.colab.kernel.invokeFunction('convertToInteractive',\n",
              "                                                     [key], {});\n",
              "          if (!dataTable) return;\n",
              "\n",
              "          const docLinkHtml = 'Like what you see? Visit the ' +\n",
              "            '<a target=\"_blank\" href=https://colab.research.google.com/notebooks/data_table.ipynb>data table notebook</a>'\n",
              "            + ' to learn more about interactive tables.';\n",
              "          element.innerHTML = '';\n",
              "          dataTable['output_type'] = 'display_data';\n",
              "          await google.colab.output.renderOutput(dataTable, element);\n",
              "          const docLink = document.createElement('div');\n",
              "          docLink.innerHTML = docLinkHtml;\n",
              "          element.appendChild(docLink);\n",
              "        }\n",
              "      </script>\n",
              "    </div>\n",
              "  </div>\n"
            ]
          },
          "metadata": {},
          "execution_count": 34
        }
      ],
      "source": [
        "sql_query.head(2)"
      ]
    },
    {
      "cell_type": "code",
      "execution_count": null,
      "metadata": {
        "colab": {
          "base_uri": "https://localhost:8080/"
        },
        "id": "Hu9qg3FvGufW",
        "outputId": "aad07a30-e901-4edb-c5ba-2553e6d20922"
      },
      "outputs": [
        {
          "output_type": "execute_result",
          "data": {
            "text/plain": [
              "Year                     0\n",
              "Rank                     0\n",
              "Finishers                0\n",
              "Time                     0\n",
              "Team                     1\n",
              "Country                  0\n",
              "Winner                   0\n",
              "Equipo del ganador       0\n",
              "Margin                   0\n",
              "Stages_Won               0\n",
              "Stages_Led               0\n",
              "Avg_Speed                0\n",
              "Height                   0\n",
              "Weight                   0\n",
              "Born                     0\n",
              "Died                  1617\n",
              "dtype: int64"
            ]
          },
          "metadata": {},
          "execution_count": 35
        }
      ],
      "source": [
        "sql_query.isnull().sum()"
      ]
    },
    {
      "cell_type": "markdown",
      "metadata": {
        "id": "lCbqyZu3S_yX"
      },
      "source": [
        "La columna Died son todos valores null ya que los ciclistas estan vivos\n",
        "en el anio 2022. Para el objetivo de este trabajo voy a reemplazar los null de la columna Died , con el anio 2022, ya que es hasta este anio que hacemos el analisis. De esta manera podre luego calcular las edades de los ciclistas (2022- Born)\n",
        "\n",
        "\n",
        "La columna Stages tiene una cantidad significativa de Null y debo pensar que hacer al respecto. La columna Rank tiene solo 9 NUll por lo que el poprcentaje es bajo. La columna Team tiene una fila NUll.  \n"
      ]
    },
    {
      "cell_type": "code",
      "source": [
        "msno.bar(sql_query)"
      ],
      "metadata": {
        "colab": {
          "base_uri": "https://localhost:8080/",
          "height": 590
        },
        "id": "YdO-ZzqJui1i",
        "outputId": "bff32ca8-258e-4137-ebbb-ac87721b6c84"
      },
      "execution_count": null,
      "outputs": [
        {
          "output_type": "execute_result",
          "data": {
            "text/plain": [
              "<Axes: >"
            ]
          },
          "metadata": {},
          "execution_count": 36
        },
        {
          "output_type": "display_data",
          "data": {
            "text/plain": [
              "<Figure size 2500x1000 with 3 Axes>"
            ],
            "image/png": "[encoded data removed]"
          },
          "metadata": {}
        }
      ]
    },
    {
      "cell_type": "code",
      "execution_count": null,
      "metadata": {
        "id": "P_vuiAgRhx9L"
      },
      "outputs": [],
      "source": [
        "sql_query['Died'] = sql_query['Died'].fillna(2022)  ## reemplazo los null de la columna Died con el anio 2022 ya que los ciclistas estan vivos."
      ]
    },
    {
      "cell_type": "code",
      "execution_count": null,
      "metadata": {
        "colab": {
          "base_uri": "https://localhost:8080/"
        },
        "id": "i8ICFQ8NiCPP",
        "outputId": "4da03535-af1f-42f0-f22c-d3a18c18f0a4"
      },
      "outputs": [
        {
          "output_type": "execute_result",
          "data": {
            "text/plain": [
              "Year                  0\n",
              "Rank                  0\n",
              "Finishers             0\n",
              "Time                  0\n",
              "Team                  1\n",
              "Country               0\n",
              "Winner                0\n",
              "Equipo del ganador    0\n",
              "Margin                0\n",
              "Stages_Won            0\n",
              "Stages_Led            0\n",
              "Avg_Speed             0\n",
              "Height                0\n",
              "Weight                0\n",
              "Born                  0\n",
              "Died                  0\n",
              "dtype: int64"
            ]
          },
          "metadata": {},
          "execution_count": 38
        }
      ],
      "source": [
        "sql_query.isnull().sum()"
      ]
    },
    {
      "cell_type": "markdown",
      "metadata": {
        "id": "xXfyC7GtiSSW"
      },
      "source": [
        "ahora me ocupare de los valores nulos en la columna Stages_led"
      ]
    },
    {
      "cell_type": "code",
      "execution_count": null,
      "metadata": {
        "id": "__cuJug3iY5T"
      },
      "outputs": [],
      "source": [
        "# Ver los valores nulos de la columna 'Stages_Led'\n",
        "nulos = sql_query['Stages_Led'].isnull()\n",
        "\n",
        "# Calcular el porcentaje de valores nulos en la columna 'category'\n",
        "porcentaje_nulos = nulos.mean() * 100"
      ]
    },
    {
      "cell_type": "code",
      "execution_count": null,
      "metadata": {
        "colab": {
          "base_uri": "https://localhost:8080/"
        },
        "id": "JO0tdB6oiwhq",
        "outputId": "ac5c543d-b97d-41c1-a32e-50ea4a26091f"
      },
      "outputs": [
        {
          "output_type": "execute_result",
          "data": {
            "text/plain": [
              "0.0"
            ]
          },
          "metadata": {},
          "execution_count": 40
        }
      ],
      "source": [
        "porcentaje_nulos # por alguna razon ahora me da 0 cuando antes era de 20 %. Creo que es porque en la parte de modeling, hice un drop de valores nulos con un inplace verdadero."
      ]
    },
    {
      "cell_type": "markdown",
      "metadata": {
        "id": "8kd5pRPxj0J5"
      },
      "source": [
        "Este es un porcentaje alto de valores faltantes (20.6%) y debo analizar que hacer con ellos. Aun no estoy seguro si necesito esta columna para mi analisis."
      ]
    },
    {
      "cell_type": "code",
      "source": [
        "# Calculate the mode of the 'Stages_Led' column\n",
        "mode_value = sql_query['Stages_Led'].mode().iloc[0]\n",
        "\n",
        "# Reemplazo los missing values con la moda\n",
        "sql_query['Stages_Led'] = sql_query['Stages_Led'].fillna(mode_value)"
      ],
      "metadata": {
        "id": "PNyp4pJyzST5"
      },
      "execution_count": null,
      "outputs": []
    },
    {
      "cell_type": "code",
      "source": [
        "sql_query.isnull().sum()"
      ],
      "metadata": {
        "colab": {
          "base_uri": "https://localhost:8080/"
        },
        "id": "i3CiNV6_zrkC",
        "outputId": "3400add8-ba4f-4d2d-91a5-8cc5cfd3c022"
      },
      "execution_count": null,
      "outputs": [
        {
          "output_type": "execute_result",
          "data": {
            "text/plain": [
              "Year                  0\n",
              "Rank                  9\n",
              "Finishers             0\n",
              "Time                  0\n",
              "Team                  0\n",
              "Country               0\n",
              "Winner                0\n",
              "Equipo del ganador    0\n",
              "Margin                0\n",
              "Stages_Won            0\n",
              "Stages_Led            0\n",
              "Avg_Speed             0\n",
              "Height                0\n",
              "Weight                0\n",
              "Born                  0\n",
              "Died                  0\n",
              "dtype: int64"
            ]
          },
          "metadata": {},
          "execution_count": 122
        }
      ]
    },
    {
      "cell_type": "markdown",
      "source": [
        "Veo que la columna Team tiene un faltante. Entonces lo reemplazo con la moda."
      ],
      "metadata": {
        "id": "GgDpgZWc1OyI"
      }
    },
    {
      "cell_type": "code",
      "source": [
        "# Calculo la moda de la columna 'Team'\n",
        "mode_value = sql_query['Team'].mode().iloc[0]\n",
        "\n",
        "# Reemplazo el missing value con la moda\n",
        "sql_query['Team'] = sql_query['Team'].fillna(mode_value)"
      ],
      "metadata": {
        "id": "3BOcylda0YRT"
      },
      "execution_count": null,
      "outputs": []
    },
    {
      "cell_type": "code",
      "source": [
        "sql_query.isnull().sum()"
      ],
      "metadata": {
        "colab": {
          "base_uri": "https://localhost:8080/"
        },
        "id": "hg0gWG-l0nGD",
        "outputId": "d4c26c8d-c855-4cdf-896c-bdf21d88be37"
      },
      "execution_count": null,
      "outputs": [
        {
          "output_type": "execute_result",
          "data": {
            "text/plain": [
              "Year                  0\n",
              "Rank                  9\n",
              "Finishers             0\n",
              "Time                  0\n",
              "Team                  0\n",
              "Country               0\n",
              "Winner                0\n",
              "Equipo del ganador    0\n",
              "Margin                0\n",
              "Stages_Won            0\n",
              "Stages_Led            0\n",
              "Avg_Speed             0\n",
              "Height                0\n",
              "Weight                0\n",
              "Born                  0\n",
              "Died                  0\n",
              "dtype: int64"
            ]
          },
          "metadata": {},
          "execution_count": 124
        }
      ]
    },
    {
      "cell_type": "markdown",
      "metadata": {
        "id": "GG36WJ6TysnR"
      },
      "source": [
        "Aqui estimare el porcentaje de valores nulos en la columna Rank"
      ]
    },
    {
      "cell_type": "code",
      "execution_count": null,
      "metadata": {
        "colab": {
          "base_uri": "https://localhost:8080/"
        },
        "id": "VWQenY5glYBp",
        "outputId": "cfc67292-45ab-4ab1-fcf1-df17a37d7e39"
      },
      "outputs": [
        {
          "output_type": "execute_result",
          "data": {
            "text/plain": [
              "1       False\n",
              "3       False\n",
              "4       False\n",
              "5       False\n",
              "6       False\n",
              "        ...  \n",
              "1620    False\n",
              "1621    False\n",
              "1622    False\n",
              "1623    False\n",
              "1624    False\n",
              "Name: Rank, Length: 1617, dtype: bool"
            ]
          },
          "metadata": {},
          "execution_count": 43
        }
      ],
      "source": [
        "nulos_en_rank= sql_query['Rank'].isnull()\n",
        "nulos_en_rank"
      ]
    },
    {
      "cell_type": "code",
      "execution_count": null,
      "metadata": {
        "colab": {
          "base_uri": "https://localhost:8080/"
        },
        "id": "YbeXxvI8l1wo",
        "outputId": "99e23c79-9731-4bd8-89ce-5942e2f2448c"
      },
      "outputs": [
        {
          "output_type": "execute_result",
          "data": {
            "text/plain": [
              "0.0"
            ]
          },
          "metadata": {},
          "execution_count": 44
        }
      ],
      "source": [
        "porcentaje_nulos_en_rank = nulos_en_rank.mean() * 100\n",
        "porcentaje_nulos_en_rank"
      ]
    },
    {
      "cell_type": "code",
      "execution_count": null,
      "metadata": {
        "colab": {
          "base_uri": "https://localhost:8080/"
        },
        "id": "360EAjYGmNH6",
        "outputId": "a6654314-761f-41d2-bd05-4ec1542ba7eb"
      },
      "outputs": [
        {
          "output_type": "execute_result",
          "data": {
            "text/plain": [
              "False    1617\n",
              "Name: Rank, dtype: int64"
            ]
          },
          "metadata": {},
          "execution_count": 45
        }
      ],
      "source": [
        "nulos_en_rank.value_counts() # tenia 9 valores nulos, pero con el drop nulls de la parte de modelado que he hecho, ahora los valores nulos desaparecieron."
      ]
    },
    {
      "cell_type": "markdown",
      "metadata": {
        "id": "mKjeg83lmg9Y"
      },
      "source": [
        "Tengo 9 valores nulos en la categoria Rank. Esto representa el 0.43 % de los datos, por lo que puedo eliminarlos. Esta categoria es importante ya que me piden evaluar a los top 5 ciclistas. De modo que de esta columna solo quiero obtener aquellos finishers que estan en el top 5."
      ]
    },
    {
      "cell_type": "markdown",
      "metadata": {
        "id": "wOLsp_QGo6yE"
      },
      "source": [
        "## Visualización de datos"
      ]
    },
    {
      "cell_type": "code",
      "execution_count": null,
      "metadata": {
        "colab": {
          "base_uri": "https://localhost:8080/",
          "height": 280
        },
        "id": "6UAAd1RKkvjV",
        "outputId": "a534ff95-9458-44e0-b7e4-3124c28ca0b3"
      },
      "outputs": [
        {
          "output_type": "execute_result",
          "data": {
            "text/plain": [
              "   Year  Rank             Finishers         Time               Team  \\\n",
              "1  2010   1.0    Andy Schleck (LUX)  91h 59' 27\"     Team Saxo Bank   \n",
              "3  2010   2.0  Samuel Sánchez (ESP)     + 3' 01\"  Euskaltel–Euskadi   \n",
              "\n",
              "      Country        Winner Equipo del ganador    Margin  Stages_Won  \\\n",
              "1  Luxembourg  Andy Schleck     Team Saxo Bank  + 1' 22\"           2   \n",
              "3  Luxembourg  Andy Schleck     Team Saxo Bank  + 1' 22\"           2   \n",
              "\n",
              "   Stages_Led Avg_Speed  Height  Weight        Born    Died  \n",
              "1        12.0  39.6km/h    1.86      68  1985-06-10  2022.0  \n",
              "3        12.0  39.6km/h    1.86      68  1985-06-10  2022.0  "
            ],
            "text/html": [
              "\n",
              "\n",
              "  <div id=\"df-3fb7c853-150e-40c1-9d4a-e0861e30e5f4\">\n",
              "    <div class=\"colab-df-container\">\n",
              "      <div>\n",
              "<style scoped>\n",
              "    .dataframe tbody tr th:only-of-type {\n",
              "        vertical-align: middle;\n",
              "    }\n",
              "\n",
              "    .dataframe tbody tr th {\n",
              "        vertical-align: top;\n",
              "    }\n",
              "\n",
              "    .dataframe thead th {\n",
              "        text-align: right;\n",
              "    }\n",
              "</style>\n",
              "<table border=\"1\" class=\"dataframe\">\n",
              "  <thead>\n",
              "    <tr style=\"text-align: right;\">\n",
              "      <th></th>\n",
              "      <th>Year</th>\n",
              "      <th>Rank</th>\n",
              "      <th>Finishers</th>\n",
              "      <th>Time</th>\n",
              "      <th>Team</th>\n",
              "      <th>Country</th>\n",
              "      <th>Winner</th>\n",
              "      <th>Equipo del ganador</th>\n",
              "      <th>Margin</th>\n",
              "      <th>Stages_Won</th>\n",
              "      <th>Stages_Led</th>\n",
              "      <th>Avg_Speed</th>\n",
              "      <th>Height</th>\n",
              "      <th>Weight</th>\n",
              "      <th>Born</th>\n",
              "      <th>Died</th>\n",
              "    </tr>\n",
              "  </thead>\n",
              "  <tbody>\n",
              "    <tr>\n",
              "      <th>1</th>\n",
              "      <td>2010</td>\n",
              "      <td>1.0</td>\n",
              "      <td>Andy Schleck (LUX)</td>\n",
              "      <td>91h 59' 27\"</td>\n",
              "      <td>Team Saxo Bank</td>\n",
              "      <td>Luxembourg</td>\n",
              "      <td>Andy Schleck</td>\n",
              "      <td>Team Saxo Bank</td>\n",
              "      <td>+ 1' 22\"</td>\n",
              "      <td>2</td>\n",
              "      <td>12.0</td>\n",
              "      <td>39.6km/h</td>\n",
              "      <td>1.86</td>\n",
              "      <td>68</td>\n",
              "      <td>1985-06-10</td>\n",
              "      <td>2022.0</td>\n",
              "    </tr>\n",
              "    <tr>\n",
              "      <th>3</th>\n",
              "      <td>2010</td>\n",
              "      <td>2.0</td>\n",
              "      <td>Samuel Sánchez (ESP)</td>\n",
              "      <td>+ 3' 01\"</td>\n",
              "      <td>Euskaltel–Euskadi</td>\n",
              "      <td>Luxembourg</td>\n",
              "      <td>Andy Schleck</td>\n",
              "      <td>Team Saxo Bank</td>\n",
              "      <td>+ 1' 22\"</td>\n",
              "      <td>2</td>\n",
              "      <td>12.0</td>\n",
              "      <td>39.6km/h</td>\n",
              "      <td>1.86</td>\n",
              "      <td>68</td>\n",
              "      <td>1985-06-10</td>\n",
              "      <td>2022.0</td>\n",
              "    </tr>\n",
              "  </tbody>\n",
              "</table>\n",
              "</div>\n",
              "      <button class=\"colab-df-convert\" onclick=\"convertToInteractive('df-3fb7c853-150e-40c1-9d4a-e0861e30e5f4')\"\n",
              "              title=\"Convert this dataframe to an interactive table.\"\n",
              "              style=\"display:none;\">\n",
              "\n",
              "  <svg xmlns=\"http://www.w3.org/2000/svg\" height=\"24px\"viewBox=\"0 0 24 24\"\n",
              "       width=\"24px\">\n",
              "    <path d=\"M0 0h24v24H0V0z\" fill=\"none\"/>\n",
              "    <path d=\"M18.56 5.44l.94 2.06.94-2.06 2.06-.94-2.06-.94-.94-2.06-.94 2.06-2.06.94zm-11 1L8.5 8.5l.94-2.06 2.06-.94-2.06-.94L8.5 2.5l-.94 2.06-2.06.94zm10 10l.94 2.06.94-2.06 2.06-.94-2.06-.94-.94-2.06-.94 2.06-2.06.94z\"/><path d=\"M17.41 7.96l-1.37-1.37c-.4-.4-.92-.59-1.43-.59-.52 0-1.04.2-1.43.59L10.3 9.45l-7.72 7.72c-.78.78-.78 2.05 0 2.83L4 21.41c.39.39.9.59 1.41.59.51 0 1.02-.2 1.41-.59l7.78-7.78 2.81-2.81c.8-.78.8-2.07 0-2.86zM5.41 20L4 18.59l7.72-7.72 1.47 1.35L5.41 20z\"/>\n",
              "  </svg>\n",
              "      </button>\n",
              "\n",
              "\n",
              "\n",
              "    <div id=\"df-7ae79986-8762-457d-b858-4e7fd52eb8f8\">\n",
              "      <button class=\"colab-df-quickchart\" onclick=\"quickchart('df-7ae79986-8762-457d-b858-4e7fd52eb8f8')\"\n",
              "              title=\"Suggest charts.\"\n",
              "              style=\"display:none;\">\n",
              "\n",
              "<svg xmlns=\"http://www.w3.org/2000/svg\" height=\"24px\"viewBox=\"0 0 24 24\"\n",
              "     width=\"24px\">\n",
              "    <g>\n",
              "        <path d=\"M19 3H5c-1.1 0-2 .9-2 2v14c0 1.1.9 2 2 2h14c1.1 0 2-.9 2-2V5c0-1.1-.9-2-2-2zM9 17H7v-7h2v7zm4 0h-2V7h2v10zm4 0h-2v-4h2v4z\"/>\n",
              "    </g>\n",
              "</svg>\n",
              "      </button>\n",
              "    </div>\n",
              "\n",
              "<style>\n",
              "  .colab-df-quickchart {\n",
              "    background-color: #E8F0FE;\n",
              "    border: none;\n",
              "    border-radius: 50%;\n",
              "    cursor: pointer;\n",
              "    display: none;\n",
              "    fill: #1967D2;\n",
              "    height: 32px;\n",
              "    padding: 0 0 0 0;\n",
              "    width: 32px;\n",
              "  }\n",
              "\n",
              "  .colab-df-quickchart:hover {\n",
              "    background-color: #E2EBFA;\n",
              "    box-shadow: 0px 1px 2px rgba(60, 64, 67, 0.3), 0px 1px 3px 1px rgba(60, 64, 67, 0.15);\n",
              "    fill: #174EA6;\n",
              "  }\n",
              "\n",
              "  [theme=dark] .colab-df-quickchart {\n",
              "    background-color: #3B4455;\n",
              "    fill: #D2E3FC;\n",
              "  }\n",
              "\n",
              "  [theme=dark] .colab-df-quickchart:hover {\n",
              "    background-color: #434B5C;\n",
              "    box-shadow: 0px 1px 3px 1px rgba(0, 0, 0, 0.15);\n",
              "    filter: drop-shadow(0px 1px 2px rgba(0, 0, 0, 0.3));\n",
              "    fill: #FFFFFF;\n",
              "  }\n",
              "</style>\n",
              "\n",
              "    <script>\n",
              "      async function quickchart(key) {\n",
              "        const containerElement = document.querySelector('#' + key);\n",
              "        const charts = await google.colab.kernel.invokeFunction(\n",
              "            'suggestCharts', [key], {});\n",
              "      }\n",
              "    </script>\n",
              "\n",
              "      <script>\n",
              "\n",
              "function displayQuickchartButton(domScope) {\n",
              "  let quickchartButtonEl =\n",
              "    domScope.querySelector('#df-7ae79986-8762-457d-b858-4e7fd52eb8f8 button.colab-df-quickchart');\n",
              "  quickchartButtonEl.style.display =\n",
              "    google.colab.kernel.accessAllowed ? 'block' : 'none';\n",
              "}\n",
              "\n",
              "        displayQuickchartButton(document);\n",
              "      </script>\n",
              "      <style>\n",
              "    .colab-df-container {\n",
              "      display:flex;\n",
              "      flex-wrap:wrap;\n",
              "      gap: 12px;\n",
              "    }\n",
              "\n",
              "    .colab-df-convert {\n",
              "      background-color: #E8F0FE;\n",
              "      border: none;\n",
              "      border-radius: 50%;\n",
              "      cursor: pointer;\n",
              "      display: none;\n",
              "      fill: #1967D2;\n",
              "      height: 32px;\n",
              "      padding: 0 0 0 0;\n",
              "      width: 32px;\n",
              "    }\n",
              "\n",
              "    .colab-df-convert:hover {\n",
              "      background-color: #E2EBFA;\n",
              "      box-shadow: 0px 1px 2px rgba(60, 64, 67, 0.3), 0px 1px 3px 1px rgba(60, 64, 67, 0.15);\n",
              "      fill: #174EA6;\n",
              "    }\n",
              "\n",
              "    [theme=dark] .colab-df-convert {\n",
              "      background-color: #3B4455;\n",
              "      fill: #D2E3FC;\n",
              "    }\n",
              "\n",
              "    [theme=dark] .colab-df-convert:hover {\n",
              "      background-color: #434B5C;\n",
              "      box-shadow: 0px 1px 3px 1px rgba(0, 0, 0, 0.15);\n",
              "      filter: drop-shadow(0px 1px 2px rgba(0, 0, 0, 0.3));\n",
              "      fill: #FFFFFF;\n",
              "    }\n",
              "  </style>\n",
              "\n",
              "      <script>\n",
              "        const buttonEl =\n",
              "          document.querySelector('#df-3fb7c853-150e-40c1-9d4a-e0861e30e5f4 button.colab-df-convert');\n",
              "        buttonEl.style.display =\n",
              "          google.colab.kernel.accessAllowed ? 'block' : 'none';\n",
              "\n",
              "        async function convertToInteractive(key) {\n",
              "          const element = document.querySelector('#df-3fb7c853-150e-40c1-9d4a-e0861e30e5f4');\n",
              "          const dataTable =\n",
              "            await google.colab.kernel.invokeFunction('convertToInteractive',\n",
              "                                                     [key], {});\n",
              "          if (!dataTable) return;\n",
              "\n",
              "          const docLinkHtml = 'Like what you see? Visit the ' +\n",
              "            '<a target=\"_blank\" href=https://colab.research.google.com/notebooks/data_table.ipynb>data table notebook</a>'\n",
              "            + ' to learn more about interactive tables.';\n",
              "          element.innerHTML = '';\n",
              "          dataTable['output_type'] = 'display_data';\n",
              "          await google.colab.output.renderOutput(dataTable, element);\n",
              "          const docLink = document.createElement('div');\n",
              "          docLink.innerHTML = docLinkHtml;\n",
              "          element.appendChild(docLink);\n",
              "        }\n",
              "      </script>\n",
              "    </div>\n",
              "  </div>\n"
            ]
          },
          "metadata": {},
          "execution_count": 46
        }
      ],
      "source": [
        "sql_query.head (2)"
      ]
    },
    {
      "cell_type": "code",
      "execution_count": null,
      "metadata": {
        "colab": {
          "base_uri": "https://localhost:8080/",
          "height": 869
        },
        "id": "XknhV2xxvD9j",
        "outputId": "62ad8178-8750-4e26-f446-a7bc954a66ef"
      },
      "outputs": [
        {
          "output_type": "execute_result",
          "data": {
            "text/plain": [
              "      Year   Rank                    Finishers          Time  \\\n",
              "1     2010    1.0           Andy Schleck (LUX)   91h 59' 27\"   \n",
              "3     2010    2.0         Samuel Sánchez (ESP)      + 3' 01\"   \n",
              "4     2010    3.0  Jurgen Van den Broeck (BEL)      + 6' 15\"   \n",
              "5     2010    4.0          Robert Gesink (NED)      + 8' 52\"   \n",
              "6     2010    5.0         Ryder Hesjedal (CAN)      + 9' 36\"   \n",
              "...    ...    ...                          ...           ...   \n",
              "1620  2019  151.0           Alex Dowsett (GBR)  + 4h 14' 39\"   \n",
              "1621  2019  152.0         Michael Mørkøv (DEN)  + 4h 19' 33\"   \n",
              "1622  2019  153.0       Jens Debusschere (BEL)  + 4h 29' 07\"   \n",
              "1623  2019  154.0          Yoann Offredo (FRA)  + 4h 31' 43\"   \n",
              "1624  2019  155.0    Sebastian Langeveld (NED)  + 4h 34' 23\"   \n",
              "\n",
              "                       Team     Country        Winner Equipo del ganador  \\\n",
              "1            Team Saxo Bank  Luxembourg  Andy Schleck     Team Saxo Bank   \n",
              "3         Euskaltel–Euskadi  Luxembourg  Andy Schleck     Team Saxo Bank   \n",
              "4        Omega Pharma–Lotto  Luxembourg  Andy Schleck     Team Saxo Bank   \n",
              "5                  Rabobank  Luxembourg  Andy Schleck     Team Saxo Bank   \n",
              "6        Garmin–Transitions  Luxembourg  Andy Schleck     Team Saxo Bank   \n",
              "...                     ...         ...           ...                ...   \n",
              "1620   Team Katusha–Alpecin    Colombia   Egan Bernal         Team Ineos   \n",
              "1621  Deceuninck–Quick-Step    Colombia   Egan Bernal         Team Ineos   \n",
              "1622   Team Katusha–Alpecin    Colombia   Egan Bernal         Team Ineos   \n",
              "1623           Wanty–Gobert    Colombia   Egan Bernal         Team Ineos   \n",
              "1624     EF Education First    Colombia   Egan Bernal         Team Ineos   \n",
              "\n",
              "        Margin  Stages_Won  Stages_Led Avg_Speed  Height  Weight        Born  \\\n",
              "1     + 1' 22\"           2        12.0  39.6km/h    1.86      68  1985-06-10   \n",
              "3     + 1' 22\"           2        12.0  39.6km/h    1.86      68  1985-06-10   \n",
              "4     + 1' 22\"           2        12.0  39.6km/h    1.86      68  1985-06-10   \n",
              "5     + 1' 22\"           2        12.0  39.6km/h    1.86      68  1985-06-10   \n",
              "6     + 1' 22\"           2        12.0  39.6km/h    1.86      68  1985-06-10   \n",
              "...        ...         ...         ...       ...     ...     ...         ...   \n",
              "1620  + 1' 11\"           0         2.0  40.6km/h    1.75      60  1997-01-13   \n",
              "1621  + 1' 11\"           0         2.0  40.6km/h    1.75      60  1997-01-13   \n",
              "1622  + 1' 11\"           0         2.0  40.6km/h    1.75      60  1997-01-13   \n",
              "1623  + 1' 11\"           0         2.0  40.6km/h    1.75      60  1997-01-13   \n",
              "1624  + 1' 11\"           0         2.0  40.6km/h    1.75      60  1997-01-13   \n",
              "\n",
              "        Died  \n",
              "1     2022.0  \n",
              "3     2022.0  \n",
              "4     2022.0  \n",
              "5     2022.0  \n",
              "6     2022.0  \n",
              "...      ...  \n",
              "1620  2022.0  \n",
              "1621  2022.0  \n",
              "1622  2022.0  \n",
              "1623  2022.0  \n",
              "1624  2022.0  \n",
              "\n",
              "[1617 rows x 16 columns]"
            ],
            "text/html": [
              "\n",
              "\n",
              "  <div id=\"df-8d77b67c-27ce-4001-bd3a-4cfbfe1618f7\">\n",
              "    <div class=\"colab-df-container\">\n",
              "      <div>\n",
              "<style scoped>\n",
              "    .dataframe tbody tr th:only-of-type {\n",
              "        vertical-align: middle;\n",
              "    }\n",
              "\n",
              "    .dataframe tbody tr th {\n",
              "        vertical-align: top;\n",
              "    }\n",
              "\n",
              "    .dataframe thead th {\n",
              "        text-align: right;\n",
              "    }\n",
              "</style>\n",
              "<table border=\"1\" class=\"dataframe\">\n",
              "  <thead>\n",
              "    <tr style=\"text-align: right;\">\n",
              "      <th></th>\n",
              "      <th>Year</th>\n",
              "      <th>Rank</th>\n",
              "      <th>Finishers</th>\n",
              "      <th>Time</th>\n",
              "      <th>Team</th>\n",
              "      <th>Country</th>\n",
              "      <th>Winner</th>\n",
              "      <th>Equipo del ganador</th>\n",
              "      <th>Margin</th>\n",
              "      <th>Stages_Won</th>\n",
              "      <th>Stages_Led</th>\n",
              "      <th>Avg_Speed</th>\n",
              "      <th>Height</th>\n",
              "      <th>Weight</th>\n",
              "      <th>Born</th>\n",
              "      <th>Died</th>\n",
              "    </tr>\n",
              "  </thead>\n",
              "  <tbody>\n",
              "    <tr>\n",
              "      <th>1</th>\n",
              "      <td>2010</td>\n",
              "      <td>1.0</td>\n",
              "      <td>Andy Schleck (LUX)</td>\n",
              "      <td>91h 59' 27\"</td>\n",
              "      <td>Team Saxo Bank</td>\n",
              "      <td>Luxembourg</td>\n",
              "      <td>Andy Schleck</td>\n",
              "      <td>Team Saxo Bank</td>\n",
              "      <td>+ 1' 22\"</td>\n",
              "      <td>2</td>\n",
              "      <td>12.0</td>\n",
              "      <td>39.6km/h</td>\n",
              "      <td>1.86</td>\n",
              "      <td>68</td>\n",
              "      <td>1985-06-10</td>\n",
              "      <td>2022.0</td>\n",
              "    </tr>\n",
              "    <tr>\n",
              "      <th>3</th>\n",
              "      <td>2010</td>\n",
              "      <td>2.0</td>\n",
              "      <td>Samuel Sánchez (ESP)</td>\n",
              "      <td>+ 3' 01\"</td>\n",
              "      <td>Euskaltel–Euskadi</td>\n",
              "      <td>Luxembourg</td>\n",
              "      <td>Andy Schleck</td>\n",
              "      <td>Team Saxo Bank</td>\n",
              "      <td>+ 1' 22\"</td>\n",
              "      <td>2</td>\n",
              "      <td>12.0</td>\n",
              "      <td>39.6km/h</td>\n",
              "      <td>1.86</td>\n",
              "      <td>68</td>\n",
              "      <td>1985-06-10</td>\n",
              "      <td>2022.0</td>\n",
              "    </tr>\n",
              "    <tr>\n",
              "      <th>4</th>\n",
              "      <td>2010</td>\n",
              "      <td>3.0</td>\n",
              "      <td>Jurgen Van den Broeck (BEL)</td>\n",
              "      <td>+ 6' 15\"</td>\n",
              "      <td>Omega Pharma–Lotto</td>\n",
              "      <td>Luxembourg</td>\n",
              "      <td>Andy Schleck</td>\n",
              "      <td>Team Saxo Bank</td>\n",
              "      <td>+ 1' 22\"</td>\n",
              "      <td>2</td>\n",
              "      <td>12.0</td>\n",
              "      <td>39.6km/h</td>\n",
              "      <td>1.86</td>\n",
              "      <td>68</td>\n",
              "      <td>1985-06-10</td>\n",
              "      <td>2022.0</td>\n",
              "    </tr>\n",
              "    <tr>\n",
              "      <th>5</th>\n",
              "      <td>2010</td>\n",
              "      <td>4.0</td>\n",
              "      <td>Robert Gesink (NED)</td>\n",
              "      <td>+ 8' 52\"</td>\n",
              "      <td>Rabobank</td>\n",
              "      <td>Luxembourg</td>\n",
              "      <td>Andy Schleck</td>\n",
              "      <td>Team Saxo Bank</td>\n",
              "      <td>+ 1' 22\"</td>\n",
              "      <td>2</td>\n",
              "      <td>12.0</td>\n",
              "      <td>39.6km/h</td>\n",
              "      <td>1.86</td>\n",
              "      <td>68</td>\n",
              "      <td>1985-06-10</td>\n",
              "      <td>2022.0</td>\n",
              "    </tr>\n",
              "    <tr>\n",
              "      <th>6</th>\n",
              "      <td>2010</td>\n",
              "      <td>5.0</td>\n",
              "      <td>Ryder Hesjedal (CAN)</td>\n",
              "      <td>+ 9' 36\"</td>\n",
              "      <td>Garmin–Transitions</td>\n",
              "      <td>Luxembourg</td>\n",
              "      <td>Andy Schleck</td>\n",
              "      <td>Team Saxo Bank</td>\n",
              "      <td>+ 1' 22\"</td>\n",
              "      <td>2</td>\n",
              "      <td>12.0</td>\n",
              "      <td>39.6km/h</td>\n",
              "      <td>1.86</td>\n",
              "      <td>68</td>\n",
              "      <td>1985-06-10</td>\n",
              "      <td>2022.0</td>\n",
              "    </tr>\n",
              "    <tr>\n",
              "      <th>...</th>\n",
              "      <td>...</td>\n",
              "      <td>...</td>\n",
              "      <td>...</td>\n",
              "      <td>...</td>\n",
              "      <td>...</td>\n",
              "      <td>...</td>\n",
              "      <td>...</td>\n",
              "      <td>...</td>\n",
              "      <td>...</td>\n",
              "      <td>...</td>\n",
              "      <td>...</td>\n",
              "      <td>...</td>\n",
              "      <td>...</td>\n",
              "      <td>...</td>\n",
              "      <td>...</td>\n",
              "      <td>...</td>\n",
              "    </tr>\n",
              "    <tr>\n",
              "      <th>1620</th>\n",
              "      <td>2019</td>\n",
              "      <td>151.0</td>\n",
              "      <td>Alex Dowsett (GBR)</td>\n",
              "      <td>+ 4h 14' 39\"</td>\n",
              "      <td>Team Katusha–Alpecin</td>\n",
              "      <td>Colombia</td>\n",
              "      <td>Egan Bernal</td>\n",
              "      <td>Team Ineos</td>\n",
              "      <td>+ 1' 11\"</td>\n",
              "      <td>0</td>\n",
              "      <td>2.0</td>\n",
              "      <td>40.6km/h</td>\n",
              "      <td>1.75</td>\n",
              "      <td>60</td>\n",
              "      <td>1997-01-13</td>\n",
              "      <td>2022.0</td>\n",
              "    </tr>\n",
              "    <tr>\n",
              "      <th>1621</th>\n",
              "      <td>2019</td>\n",
              "      <td>152.0</td>\n",
              "      <td>Michael Mørkøv (DEN)</td>\n",
              "      <td>+ 4h 19' 33\"</td>\n",
              "      <td>Deceuninck–Quick-Step</td>\n",
              "      <td>Colombia</td>\n",
              "      <td>Egan Bernal</td>\n",
              "      <td>Team Ineos</td>\n",
              "      <td>+ 1' 11\"</td>\n",
              "      <td>0</td>\n",
              "      <td>2.0</td>\n",
              "      <td>40.6km/h</td>\n",
              "      <td>1.75</td>\n",
              "      <td>60</td>\n",
              "      <td>1997-01-13</td>\n",
              "      <td>2022.0</td>\n",
              "    </tr>\n",
              "    <tr>\n",
              "      <th>1622</th>\n",
              "      <td>2019</td>\n",
              "      <td>153.0</td>\n",
              "      <td>Jens Debusschere (BEL)</td>\n",
              "      <td>+ 4h 29' 07\"</td>\n",
              "      <td>Team Katusha–Alpecin</td>\n",
              "      <td>Colombia</td>\n",
              "      <td>Egan Bernal</td>\n",
              "      <td>Team Ineos</td>\n",
              "      <td>+ 1' 11\"</td>\n",
              "      <td>0</td>\n",
              "      <td>2.0</td>\n",
              "      <td>40.6km/h</td>\n",
              "      <td>1.75</td>\n",
              "      <td>60</td>\n",
              "      <td>1997-01-13</td>\n",
              "      <td>2022.0</td>\n",
              "    </tr>\n",
              "    <tr>\n",
              "      <th>1623</th>\n",
              "      <td>2019</td>\n",
              "      <td>154.0</td>\n",
              "      <td>Yoann Offredo (FRA)</td>\n",
              "      <td>+ 4h 31' 43\"</td>\n",
              "      <td>Wanty–Gobert</td>\n",
              "      <td>Colombia</td>\n",
              "      <td>Egan Bernal</td>\n",
              "      <td>Team Ineos</td>\n",
              "      <td>+ 1' 11\"</td>\n",
              "      <td>0</td>\n",
              "      <td>2.0</td>\n",
              "      <td>40.6km/h</td>\n",
              "      <td>1.75</td>\n",
              "      <td>60</td>\n",
              "      <td>1997-01-13</td>\n",
              "      <td>2022.0</td>\n",
              "    </tr>\n",
              "    <tr>\n",
              "      <th>1624</th>\n",
              "      <td>2019</td>\n",
              "      <td>155.0</td>\n",
              "      <td>Sebastian Langeveld (NED)</td>\n",
              "      <td>+ 4h 34' 23\"</td>\n",
              "      <td>EF Education First</td>\n",
              "      <td>Colombia</td>\n",
              "      <td>Egan Bernal</td>\n",
              "      <td>Team Ineos</td>\n",
              "      <td>+ 1' 11\"</td>\n",
              "      <td>0</td>\n",
              "      <td>2.0</td>\n",
              "      <td>40.6km/h</td>\n",
              "      <td>1.75</td>\n",
              "      <td>60</td>\n",
              "      <td>1997-01-13</td>\n",
              "      <td>2022.0</td>\n",
              "    </tr>\n",
              "  </tbody>\n",
              "</table>\n",
              "<p>1617 rows × 16 columns</p>\n",
              "</div>\n",
              "      <button class=\"colab-df-convert\" onclick=\"convertToInteractive('df-8d77b67c-27ce-4001-bd3a-4cfbfe1618f7')\"\n",
              "              title=\"Convert this dataframe to an interactive table.\"\n",
              "              style=\"display:none;\">\n",
              "\n",
              "  <svg xmlns=\"http://www.w3.org/2000/svg\" height=\"24px\"viewBox=\"0 0 24 24\"\n",
              "       width=\"24px\">\n",
              "    <path d=\"M0 0h24v24H0V0z\" fill=\"none\"/>\n",
              "    <path d=\"M18.56 5.44l.94 2.06.94-2.06 2.06-.94-2.06-.94-.94-2.06-.94 2.06-2.06.94zm-11 1L8.5 8.5l.94-2.06 2.06-.94-2.06-.94L8.5 2.5l-.94 2.06-2.06.94zm10 10l.94 2.06.94-2.06 2.06-.94-2.06-.94-.94-2.06-.94 2.06-2.06.94z\"/><path d=\"M17.41 7.96l-1.37-1.37c-.4-.4-.92-.59-1.43-.59-.52 0-1.04.2-1.43.59L10.3 9.45l-7.72 7.72c-.78.78-.78 2.05 0 2.83L4 21.41c.39.39.9.59 1.41.59.51 0 1.02-.2 1.41-.59l7.78-7.78 2.81-2.81c.8-.78.8-2.07 0-2.86zM5.41 20L4 18.59l7.72-7.72 1.47 1.35L5.41 20z\"/>\n",
              "  </svg>\n",
              "      </button>\n",
              "\n",
              "\n",
              "\n",
              "    <div id=\"df-4b04e8d8-f866-40af-86d4-3ae8666c951a\">\n",
              "      <button class=\"colab-df-quickchart\" onclick=\"quickchart('df-4b04e8d8-f866-40af-86d4-3ae8666c951a')\"\n",
              "              title=\"Suggest charts.\"\n",
              "              style=\"display:none;\">\n",
              "\n",
              "<svg xmlns=\"http://www.w3.org/2000/svg\" height=\"24px\"viewBox=\"0 0 24 24\"\n",
              "     width=\"24px\">\n",
              "    <g>\n",
              "        <path d=\"M19 3H5c-1.1 0-2 .9-2 2v14c0 1.1.9 2 2 2h14c1.1 0 2-.9 2-2V5c0-1.1-.9-2-2-2zM9 17H7v-7h2v7zm4 0h-2V7h2v10zm4 0h-2v-4h2v4z\"/>\n",
              "    </g>\n",
              "</svg>\n",
              "      </button>\n",
              "    </div>\n",
              "\n",
              "<style>\n",
              "  .colab-df-quickchart {\n",
              "    background-color: #E8F0FE;\n",
              "    border: none;\n",
              "    border-radius: 50%;\n",
              "    cursor: pointer;\n",
              "    display: none;\n",
              "    fill: #1967D2;\n",
              "    height: 32px;\n",
              "    padding: 0 0 0 0;\n",
              "    width: 32px;\n",
              "  }\n",
              "\n",
              "  .colab-df-quickchart:hover {\n",
              "    background-color: #E2EBFA;\n",
              "    box-shadow: 0px 1px 2px rgba(60, 64, 67, 0.3), 0px 1px 3px 1px rgba(60, 64, 67, 0.15);\n",
              "    fill: #174EA6;\n",
              "  }\n",
              "\n",
              "  [theme=dark] .colab-df-quickchart {\n",
              "    background-color: #3B4455;\n",
              "    fill: #D2E3FC;\n",
              "  }\n",
              "\n",
              "  [theme=dark] .colab-df-quickchart:hover {\n",
              "    background-color: #434B5C;\n",
              "    box-shadow: 0px 1px 3px 1px rgba(0, 0, 0, 0.15);\n",
              "    filter: drop-shadow(0px 1px 2px rgba(0, 0, 0, 0.3));\n",
              "    fill: #FFFFFF;\n",
              "  }\n",
              "</style>\n",
              "\n",
              "    <script>\n",
              "      async function quickchart(key) {\n",
              "        const containerElement = document.querySelector('#' + key);\n",
              "        const charts = await google.colab.kernel.invokeFunction(\n",
              "            'suggestCharts', [key], {});\n",
              "      }\n",
              "    </script>\n",
              "\n",
              "      <script>\n",
              "\n",
              "function displayQuickchartButton(domScope) {\n",
              "  let quickchartButtonEl =\n",
              "    domScope.querySelector('#df-4b04e8d8-f866-40af-86d4-3ae8666c951a button.colab-df-quickchart');\n",
              "  quickchartButtonEl.style.display =\n",
              "    google.colab.kernel.accessAllowed ? 'block' : 'none';\n",
              "}\n",
              "\n",
              "        displayQuickchartButton(document);\n",
              "      </script>\n",
              "      <style>\n",
              "    .colab-df-container {\n",
              "      display:flex;\n",
              "      flex-wrap:wrap;\n",
              "      gap: 12px;\n",
              "    }\n",
              "\n",
              "    .colab-df-convert {\n",
              "      background-color: #E8F0FE;\n",
              "      border: none;\n",
              "      border-radius: 50%;\n",
              "      cursor: pointer;\n",
              "      display: none;\n",
              "      fill: #1967D2;\n",
              "      height: 32px;\n",
              "      padding: 0 0 0 0;\n",
              "      width: 32px;\n",
              "    }\n",
              "\n",
              "    .colab-df-convert:hover {\n",
              "      background-color: #E2EBFA;\n",
              "      box-shadow: 0px 1px 2px rgba(60, 64, 67, 0.3), 0px 1px 3px 1px rgba(60, 64, 67, 0.15);\n",
              "      fill: #174EA6;\n",
              "    }\n",
              "\n",
              "    [theme=dark] .colab-df-convert {\n",
              "      background-color: #3B4455;\n",
              "      fill: #D2E3FC;\n",
              "    }\n",
              "\n",
              "    [theme=dark] .colab-df-convert:hover {\n",
              "      background-color: #434B5C;\n",
              "      box-shadow: 0px 1px 3px 1px rgba(0, 0, 0, 0.15);\n",
              "      filter: drop-shadow(0px 1px 2px rgba(0, 0, 0, 0.3));\n",
              "      fill: #FFFFFF;\n",
              "    }\n",
              "  </style>\n",
              "\n",
              "      <script>\n",
              "        const buttonEl =\n",
              "          document.querySelector('#df-8d77b67c-27ce-4001-bd3a-4cfbfe1618f7 button.colab-df-convert');\n",
              "        buttonEl.style.display =\n",
              "          google.colab.kernel.accessAllowed ? 'block' : 'none';\n",
              "\n",
              "        async function convertToInteractive(key) {\n",
              "          const element = document.querySelector('#df-8d77b67c-27ce-4001-bd3a-4cfbfe1618f7');\n",
              "          const dataTable =\n",
              "            await google.colab.kernel.invokeFunction('convertToInteractive',\n",
              "                                                     [key], {});\n",
              "          if (!dataTable) return;\n",
              "\n",
              "          const docLinkHtml = 'Like what you see? Visit the ' +\n",
              "            '<a target=\"_blank\" href=https://colab.research.google.com/notebooks/data_table.ipynb>data table notebook</a>'\n",
              "            + ' to learn more about interactive tables.';\n",
              "          element.innerHTML = '';\n",
              "          dataTable['output_type'] = 'display_data';\n",
              "          await google.colab.output.renderOutput(dataTable, element);\n",
              "          const docLink = document.createElement('div');\n",
              "          docLink.innerHTML = docLinkHtml;\n",
              "          element.appendChild(docLink);\n",
              "        }\n",
              "      </script>\n",
              "    </div>\n",
              "  </div>\n"
            ]
          },
          "metadata": {},
          "execution_count": 47
        }
      ],
      "source": [
        "sql_query.dropna(subset = 'Rank')"
      ]
    },
    {
      "cell_type": "markdown",
      "metadata": {
        "id": "RBxHv0LKZyvZ"
      },
      "source": [
        "# Metricas"
      ]
    },
    {
      "cell_type": "markdown",
      "metadata": {
        "id": "2weYj6EnaQ37"
      },
      "source": [
        "**Estadistica descriptiva de la variable \"Weight\" de los ciclistas que ganaron el Tour de France **"
      ]
    },
    {
      "cell_type": "code",
      "execution_count": null,
      "metadata": {
        "colab": {
          "base_uri": "https://localhost:8080/"
        },
        "id": "5oLYXI5Olm-T",
        "outputId": "bc0963ee-2ea7-4c28-b1b9-dab09bd5285d"
      },
      "outputs": [
        {
          "output_type": "execute_result",
          "data": {
            "text/plain": [
              "{'Mean': 67.29560915275201,\n",
              " 'Median': 69.0,\n",
              " 'Minimum': 60,\n",
              " 'Maximum': 71,\n",
              " 'Standard Deviation': 3.0846853853110887,\n",
              " 'Variance': 9.51528392635182}"
            ]
          },
          "metadata": {},
          "execution_count": 48
        }
      ],
      "source": [
        "column_stats = {\n",
        "    'Mean': sql_query['Weight'].mean(),\n",
        "    'Median': sql_query['Weight'].median(),\n",
        "    'Minimum': sql_query['Weight'].min(),\n",
        "    'Maximum': sql_query['Weight'].max(),\n",
        "    'Standard Deviation': sql_query['Weight'].std(),\n",
        "    'Variance': sql_query['Weight'].var()\n",
        "}\n",
        "\n",
        "column_stats"
      ]
    },
    {
      "cell_type": "markdown",
      "metadata": {
        "id": "hI_aIwTzUeI-"
      },
      "source": [
        "Hemos inferido que esta es una muestra de distribucion normal. Vemos que la Media y la mMdiana estan bastante cerca, por lo que inferimos que no hay outliers que esten sesgando los resultados. La diferencia entre el valor minimo y el maximo es de 10. La varianza es de 10, por lo que vemos que puede haber una diferencia importante entre el ciclista mas liviano y el mas pesado de la muestra."
      ]
    },
    {
      "cell_type": "markdown",
      "metadata": {
        "id": "NfK3ADsJnlQD"
      },
      "source": [
        "El mismo calculo pero con el metodo desccribe en la columna \"Weight\""
      ]
    },
    {
      "cell_type": "code",
      "execution_count": null,
      "metadata": {
        "colab": {
          "base_uri": "https://localhost:8080/"
        },
        "id": "l9K-CvtpnUPz",
        "outputId": "88c63287-3b76-43fb-e774-db408993ec09"
      },
      "outputs": [
        {
          "output_type": "execute_result",
          "data": {
            "text/plain": [
              "count    1617.000000\n",
              "mean       67.295609\n",
              "std         3.084685\n",
              "min        60.000000\n",
              "25%        65.000000\n",
              "50%        69.000000\n",
              "75%        69.000000\n",
              "max        71.000000\n",
              "Name: Weight, dtype: float64"
            ]
          },
          "metadata": {},
          "execution_count": 49
        }
      ],
      "source": [
        "sql_query['Weight'].describe()"
      ]
    },
    {
      "cell_type": "markdown",
      "metadata": {
        "id": "qT42Hv8UzZ1y"
      },
      "source": [
        "Metricas sobre la altura de los ciclistas ganadores. (Height)"
      ]
    },
    {
      "cell_type": "code",
      "execution_count": null,
      "metadata": {
        "colab": {
          "base_uri": "https://localhost:8080/"
        },
        "id": "jfYsXmxAzjkD",
        "outputId": "8a16372d-5df9-4174-db83-e836b4eb7e3f"
      },
      "outputs": [
        {
          "output_type": "execute_result",
          "data": {
            "text/plain": [
              "{'Mean': 1.832121212121212,\n",
              " 'Median': 1.86,\n",
              " 'Minimum': 1.74,\n",
              " 'Maximum': 1.9,\n",
              " 'Standard Deviation': 0.04958506194245183,\n",
              " 'Variance': 0.002458678367836785}"
            ]
          },
          "metadata": {},
          "execution_count": 50
        }
      ],
      "source": [
        "column_stats_height = {\n",
        "    'Mean': sql_query['Height'].mean(),\n",
        "    'Median': sql_query['Height'].median(),\n",
        "    'Minimum': sql_query['Height'].min(),\n",
        "    'Maximum': sql_query['Height'].max(),\n",
        "    'Standard Deviation': sql_query['Height'].std(),\n",
        "    'Variance': sql_query['Height'].var()\n",
        "}\n",
        "\n",
        "column_stats_height"
      ]
    },
    {
      "cell_type": "code",
      "execution_count": null,
      "metadata": {
        "colab": {
          "base_uri": "https://localhost:8080/"
        },
        "id": "_Ie0qmYpnwgX",
        "outputId": "b82a70cd-25de-4aff-b69c-6626d89ae7f1"
      },
      "outputs": [
        {
          "output_type": "execute_result",
          "data": {
            "text/plain": [
              "count    1617.000000\n",
              "mean        1.832121\n",
              "std         0.049585\n",
              "min         1.740000\n",
              "25%         1.800000\n",
              "50%         1.860000\n",
              "75%         1.860000\n",
              "max         1.900000\n",
              "Name: Height, dtype: float64"
            ]
          },
          "metadata": {},
          "execution_count": 51
        }
      ],
      "source": [
        "sql_query['Height'].describe()"
      ]
    },
    {
      "cell_type": "markdown",
      "metadata": {
        "id": "K-pu97uIzxag"
      },
      "source": [
        "Vemos que los ciclistas que han ganado el Tour de France tienen una altura que se centra alrededor de 1.82m. La media es de 1.818m, y la mediana de 1.83m. La variance es pequenia (0.0027)\n",
        "\n",
        "Debido a que la media y la mediana son similares, no se detectan outliers."
      ]
    },
    {
      "cell_type": "markdown",
      "metadata": {
        "id": "o4-Z_dQrbnCX"
      },
      "source": [
        "**Average time to complete de race **"
      ]
    },
    {
      "cell_type": "code",
      "execution_count": null,
      "metadata": {
        "colab": {
          "base_uri": "https://localhost:8080/"
        },
        "id": "e_9RSqy6brjc",
        "outputId": "b045a342-6111-4322-fde1-08880d7bf151"
      },
      "outputs": [
        {
          "output_type": "stream",
          "name": "stdout",
          "text": [
            "180.374933\n"
          ]
        }
      ],
      "source": [
        "import re\n",
        "\n",
        "# Convert the 'Time' column to string type\n",
        "sql_query['Time'] = sql_query['Time'].astype(str)\n",
        "\n",
        "# Extract hours, minutes, and seconds using regular expressions\n",
        "time_components = sql_query['Time'].str.extract(r\"(\\+|-)?(\\d+)h (\\d+)' (\\d+)\\\"\")\n",
        "\n",
        "# Convert extracted components to numeric values\n",
        "sign = time_components[0].fillna('')\n",
        "hours = pd.to_numeric(time_components[1].fillna(0), errors='coerce')\n",
        "minutes = pd.to_numeric(time_components[2].fillna(0), errors='coerce')\n",
        "seconds = pd.to_numeric(time_components[3].fillna(0), errors='coerce')\n",
        "\n",
        "# Create a new timedelta column based on the extracted components\n",
        "time_timedelta = pd.to_timedelta(hours, unit='h') + pd.to_timedelta(minutes, unit='m') + pd.to_timedelta(seconds, unit='s')\n",
        "\n",
        "# Apply the sign to adjust the time values\n",
        "time_timedelta *= time_timedelta.dt.total_seconds().apply(lambda x: -1 if x < 0 else 1) * (sign.apply(lambda x: -1 if x == '-' else 1))\n",
        "\n",
        "# Calculate the mean time in minutes\n",
        "mean_time_minutes = time_timedelta.mean().total_seconds() / 60\n",
        "\n",
        "print(mean_time_minutes)"
      ]
    },
    {
      "cell_type": "markdown",
      "metadata": {
        "id": "3lFmjlIPn6RS"
      },
      "source": [
        "El tiempo promedio de todos los ciclistas no ganadores en el dataset para completar el tour de france . es de 190.64 minutos luego del ganador."
      ]
    },
    {
      "cell_type": "markdown",
      "metadata": {
        "id": "ng5EOAbiUfRj"
      },
      "source": [
        "## Visualización de datos"
      ]
    },
    {
      "cell_type": "code",
      "execution_count": null,
      "metadata": {
        "id": "JIAxLkwRpLId"
      },
      "outputs": [],
      "source": [
        "# Importacion de matplotlib\n",
        "import matplotlib.pyplot as plt"
      ]
    },
    {
      "cell_type": "code",
      "execution_count": null,
      "metadata": {
        "colab": {
          "base_uri": "https://localhost:8080/"
        },
        "id": "2dSc6Mb3oG3X",
        "outputId": "202ad418-1f7b-45a8-e206-e5baee5466f8"
      },
      "outputs": [
        {
          "output_type": "execute_result",
          "data": {
            "text/plain": [
              "Chris Froome       670\n",
              "Cadel Evans        166\n",
              "Andy Schleck       165\n",
              "Vincenzo Nibali    164\n",
              "Egan Bernal        155\n",
              "Bradley Wiggins    152\n",
              "Geraint Thomas     145\n",
              "Name: Winner, dtype: int64"
            ]
          },
          "metadata": {},
          "execution_count": 54
        }
      ],
      "source": [
        "# Gráfico de barras: Distribución de carreras ganadas por ciclista\n",
        "Tipos_counts = sql_query['Winner'].value_counts()\n",
        "Tipos_counts"
      ]
    },
    {
      "cell_type": "code",
      "execution_count": null,
      "metadata": {
        "colab": {
          "base_uri": "https://localhost:8080/"
        },
        "id": "37D3mnOSaQfb",
        "outputId": "3400959a-181c-4bae-bff7-340ac0d66f13"
      },
      "outputs": [
        {
          "output_type": "execute_result",
          "data": {
            "text/plain": [
              "Chris Froome       670\n",
              "Cadel Evans        166\n",
              "Andy Schleck       165\n",
              "Vincenzo Nibali    164\n",
              "Egan Bernal        155\n",
              "Bradley Wiggins    152\n",
              "Geraint Thomas     145\n",
              "Name: Winner, dtype: int64"
            ]
          },
          "metadata": {},
          "execution_count": 55
        }
      ],
      "source": [
        "top_10_ciclista = Tipos_counts.head(10)\n",
        "top_10_ciclista"
      ]
    },
    {
      "cell_type": "markdown",
      "metadata": {
        "id": "xuBIEYIroOQG"
      },
      "source": [
        "Grafico"
      ]
    },
    {
      "cell_type": "code",
      "execution_count": null,
      "metadata": {
        "colab": {
          "base_uri": "https://localhost:8080/",
          "height": 509
        },
        "id": "KgXNTZDAadjA",
        "outputId": "6bdc7ead-b51f-47f6-af20-9165ab2b66a7"
      },
      "outputs": [
        {
          "output_type": "display_data",
          "data": {
            "text/plain": [
              "<Figure size 600x400 with 1 Axes>"
            ],
            "image/png": "[encoded data removed]"
          },
          "metadata": {}
        }
      ],
      "source": [
        "plt.figure(figsize=(6,4))\n",
        "plt.bar(top_10_ciclista.index, top_10_ciclista.values)\n",
        "plt.xlabel('Team')\n",
        "plt.ylabel('Carreras Ganadas')\n",
        "plt.title('Distribución por ciclista')\n",
        "plt.xticks(rotation=90)\n",
        "plt.show()"
      ]
    },
    {
      "cell_type": "code",
      "execution_count": null,
      "metadata": {
        "colab": {
          "base_uri": "https://localhost:8080/"
        },
        "id": "YRSIAx1jVYMC",
        "outputId": "236f2374-471d-46c1-f75c-2da18781f605"
      },
      "outputs": [
        {
          "output_type": "execute_result",
          "data": {
            "text/plain": [
              "Cofidis             76\n",
              "Astana              72\n",
              "Team Sky            70\n",
              "BMC Racing Team     70\n",
              "Movistar Team       67\n",
              "Team Katusha        47\n",
              "Team Europcar       42\n",
              "Ag2r–La Mondiale    40\n",
              "AG2R La Mondiale    38\n",
              "Lotto–Soudal        34\n",
              "Name: Team, dtype: int64"
            ]
          },
          "metadata": {},
          "execution_count": 57
        }
      ],
      "source": [
        "# Gráfico de barras: Distribución de categorías de equipos\n",
        "Tipos_counts_team = sql_query['Team'].value_counts()\n",
        "top_10 = Tipos_counts_team.head(10)\n",
        "top_10"
      ]
    },
    {
      "cell_type": "code",
      "execution_count": null,
      "metadata": {
        "colab": {
          "base_uri": "https://localhost:8080/",
          "height": 523
        },
        "id": "XuOQe68TxnOz",
        "outputId": "eabf0ad3-c01b-4ef3-c821-7fb22e601969"
      },
      "outputs": [
        {
          "output_type": "display_data",
          "data": {
            "text/plain": [
              "<Figure size 600x400 with 1 Axes>"
            ],
            "image/png": "[encoded data removed]"
          },
          "metadata": {}
        }
      ],
      "source": [
        "plt.figure(figsize=(6, 4))\n",
        "plt.bar(top_10.index, top_10.values)\n",
        "plt.xlabel('Team')\n",
        "plt.ylabel('Carreras Ganadas')\n",
        "plt.title('Carreras competidas por top 10 equipos entre 2010 y 2022')\n",
        "plt.xticks(rotation=90)\n",
        "plt.show()"
      ]
    },
    {
      "cell_type": "code",
      "execution_count": null,
      "metadata": {
        "colab": {
          "base_uri": "https://localhost:8080/"
        },
        "id": "o9EbgnEwdiIx",
        "outputId": "7e5a2cd7-d90c-416b-a554-d876072b39e9"
      },
      "outputs": [
        {
          "output_type": "execute_result",
          "data": {
            "text/plain": [
              "Marcus Burghardt (GER)        9\n",
              "Pierre Rolland (FRA)          9\n",
              "Amaël Moinard (FRA)           9\n",
              "Imanol Erviti (ESP)           9\n",
              "Sylvain Chavanel (FRA)        8\n",
              "Thomas Voeckler (FRA)         8\n",
              "André Greipel (GER)           8\n",
              "Lars Bak (DEN)                8\n",
              "Edvald Boasson Hagen (NOR)    8\n",
              "Geraint Thomas (GBR)          8\n",
              "Name: Finishers, dtype: int64"
            ]
          },
          "metadata": {},
          "execution_count": 59
        }
      ],
      "source": [
        "# Gráfico de barras: Distribución de top 10 ciclistas que terminaron las carreras\n",
        "Tipos_counts_finishers = sql_query['Finishers'].value_counts()\n",
        "top_10_finishers = Tipos_counts_finishers.head(10)\n",
        "top_10_finishers"
      ]
    },
    {
      "cell_type": "code",
      "execution_count": null,
      "metadata": {
        "colab": {
          "base_uri": "https://localhost:8080/",
          "height": 602
        },
        "id": "cspckHnNd_9E",
        "outputId": "6a240399-6d58-4257-eed1-e88137cf3a09"
      },
      "outputs": [
        {
          "output_type": "display_data",
          "data": {
            "text/plain": [
              "<Figure size 600x400 with 1 Axes>"
            ],
            "image/png": "[encoded data removed]"
          },
          "metadata": {}
        }
      ],
      "source": [
        "plt.figure(figsize=(6, 4))\n",
        "plt.bar(top_10_finishers.index, top_10_finishers.values)\n",
        "plt.xlabel('Ciclista')\n",
        "plt.ylabel('Carreras terminadas')\n",
        "plt.title('Top 10 finishers')\n",
        "plt.xticks(rotation=90)\n",
        "plt.show()"
      ]
    },
    {
      "cell_type": "markdown",
      "metadata": {
        "id": "YztYa_3ffc8O"
      },
      "source": [
        "Grafico boxplot para ver la distribucion de peso de los ciclistas ganadores"
      ]
    },
    {
      "cell_type": "code",
      "execution_count": null,
      "metadata": {
        "colab": {
          "base_uri": "https://localhost:8080/",
          "height": 472
        },
        "id": "pLtUfbQ_scUY",
        "outputId": "7a26c44a-1feb-4251-99ae-13a08dc3dcf7"
      },
      "outputs": [
        {
          "output_type": "display_data",
          "data": {
            "text/plain": [
              "<Figure size 640x480 with 1 Axes>"
            ],
            "image/png": "[encoded data removed]"
          },
          "metadata": {}
        }
      ],
      "source": [
        "plt.boxplot(sql_query['Weight'])\n",
        "plt.xlabel('Peso')\n",
        "plt.ylabel('Valores')\n",
        "plt.title('Distribución del peso')\n",
        "plt.show()"
      ]
    },
    {
      "cell_type": "markdown",
      "metadata": {
        "id": "YANeJ-Fospzh"
      },
      "source": [
        "Este grafico nos muestra que hay un poco mas de 10 kg entre el ciclista mas liviano y el mas pesado del dataset. La mediana es de 68 kilos, por lo que el 50% de los ciclistas se encuentra por debajo y por encima de este valor. El 25% de la muestra se encuentra debajo de los 65 kilos. El 50% de la muestra se encuentra entre los 65 y 69 Kilos. Finalmente el 25 % de la muestra se encuentra entre 69 y 71 kilos. No parece haber outliers lo cual corresponde a una muestra de deportistas de alto nivel."
      ]
    },
    {
      "cell_type": "markdown",
      "metadata": {
        "id": "7ghCztSsgv8E"
      },
      "source": [
        "Evolucion del numero de finalizadores del Tour de france en el tiempo"
      ]
    },
    {
      "cell_type": "code",
      "execution_count": null,
      "metadata": {
        "colab": {
          "base_uri": "https://localhost:8080/"
        },
        "id": "NyEUfD0pg2BE",
        "outputId": "7e5eecf1-b599-43ca-a82c-4ead6251e846"
      },
      "outputs": [
        {
          "output_type": "execute_result",
          "data": {
            "text/plain": [
              "Year\n",
              "2010    165\n",
              "2011    166\n",
              "2012    152\n",
              "2013    169\n",
              "2014    164\n",
              "2015    160\n",
              "2016    174\n",
              "2017    167\n",
              "2018    145\n",
              "2019    155\n",
              "Name: Finishers, dtype: int64"
            ]
          },
          "metadata": {},
          "execution_count": 62
        }
      ],
      "source": [
        "finishers_per_year = sql_query.groupby('Year')['Finishers'].count()\n",
        "finishers_per_year"
      ]
    },
    {
      "cell_type": "code",
      "execution_count": null,
      "metadata": {
        "colab": {
          "base_uri": "https://localhost:8080/",
          "height": 431
        },
        "id": "l6nS28YEg6Hn",
        "outputId": "7ca1bc64-ecaf-43bb-ba9d-c1638d3e2e72"
      },
      "outputs": [
        {
          "output_type": "display_data",
          "data": {
            "text/plain": [
              "<Figure size 400x400 with 1 Axes>"
            ],
            "image/png": "[encoded data removed]"
          },
          "metadata": {}
        }
      ],
      "source": [
        "plt.figure(figsize=(4, 4))\n",
        "plt.bar(finishers_per_year.index, finishers_per_year.values)\n",
        "plt.xlabel('Anio')\n",
        "plt.ylabel('ciclistas con carrera terminada')\n",
        "plt.title('Evolucion de numero de Finishers a lo largo del tiempo')\n",
        "plt.xticks(rotation=90)\n",
        "plt.show()"
      ]
    },
    {
      "cell_type": "markdown",
      "source": [
        "# Modelado, evaluación y optimización"
      ],
      "metadata": {
        "id": "geBQ9PnBCW_J"
      }
    },
    {
      "cell_type": "markdown",
      "source": [
        "Modelo de regresion linear multiple para predecir \"Stages_Led\" (variable target) en base al Height, Weight y Rank\n",
        "\n"
      ],
      "metadata": {
        "id": "pGNgMrIfCwAP"
      }
    },
    {
      "cell_type": "code",
      "source": [
        "import pandas as pd\n",
        "import matplotlib.pyplot as plt\n",
        "from sklearn.linear_model import LinearRegression\n",
        "from sklearn.metrics import mean_squared_error, mean_absolute_error, r2_score\n",
        "from sklearn.model_selection import train_test_split\n",
        "\n",
        "\n",
        "# Elimino filas con missing values en 'Height', 'Weight', 'Rank', and 'Stages_led' columns\n",
        "sql_query.dropna(subset=['Height', 'Weight', 'Rank', 'Stages_Led'], inplace=True)\n",
        "\n",
        "# Particiono la data en training y testing sets\n",
        "X = sql_query[['Rank', 'Weight', 'Height']]  # Feature variables (independent variables)\n",
        "y = sql_query['Stages_Led']                 # Target variable (dependent variable)\n",
        "X_train, X_test, y_train, y_test = train_test_split(X, y, test_size=0.2, random_state=42)\n",
        "\n",
        "# Creo el modelo de regresion linear y lo entreno  con la training data\n",
        "model = LinearRegression()\n",
        "model.fit(X_train, y_train)\n",
        "\n",
        "# Predicciones en el training and testing sets\n",
        "train_predictions = model.predict(X_train)\n",
        "test_predictions = model.predict(X_test)\n",
        "\n",
        "# Metricas de evaluacion en el training and testing sets\n",
        "train_mse = mean_squared_error(y_train, train_predictions)\n",
        "train_rmse = mean_squared_error(y_train, train_predictions, squared=False)\n",
        "train_mae = mean_absolute_error(y_train, train_predictions)\n",
        "train_r2 = r2_score(y_train, train_predictions)\n",
        "\n",
        "test_mse = mean_squared_error(y_test, test_predictions)\n",
        "test_rmse = mean_squared_error(y_test, test_predictions, squared=False)\n",
        "test_mae = mean_absolute_error(y_test, test_predictions)\n",
        "test_r2 = r2_score(y_test, test_predictions)\n",
        "\n",
        "# Imprimo las metricas de evaluacion\n",
        "print(\"Metrics on the training set:\")\n",
        "print(\"Mean Squared Error:\", train_mse)\n",
        "print(\"Root Mean Squared Error:\", train_rmse)\n",
        "print(\"Mean Absolute Error:\", train_mae)\n",
        "print(\"R-squared:\", train_r2)\n",
        "\n",
        "print(\"\\nMetrics on the testing set:\")\n",
        "print(\"Mean Squared Error:\", test_mse)\n",
        "print(\"Root Mean Squared Error:\", test_rmse)\n",
        "print(\"Mean Absolute Error:\", test_mae)\n",
        "print(\"R-squared:\", test_r2)\n"
      ],
      "metadata": {
        "colab": {
          "base_uri": "https://localhost:8080/"
        },
        "id": "htmg2-7_HOnn",
        "outputId": "08734e5e-a744-4454-d7e8-f342e088b29a"
      },
      "execution_count": null,
      "outputs": [
        {
          "output_type": "stream",
          "name": "stdout",
          "text": [
            "Metrics on the training set:\n",
            "Mean Squared Error: 13.480120486777446\n",
            "Root Mean Squared Error: 3.6715283584329628\n",
            "Mean Absolute Error: 2.5500976897839043\n",
            "R-squared: 0.5340380878987581\n",
            "\n",
            "Metrics on the testing set:\n",
            "Mean Squared Error: 11.549464238108495\n",
            "Root Mean Squared Error: 3.398450270065533\n",
            "Mean Absolute Error: 2.3615668763098454\n",
            "R-squared: 0.5801048622667595\n"
          ]
        }
      ]
    },
    {
      "cell_type": "markdown",
      "source": [
        "Visualizaciones"
      ],
      "metadata": {
        "id": "37GZePpLHqTN"
      }
    },
    {
      "cell_type": "code",
      "source": [
        "# Creo el scatter plots of actual vs. predicted 'Stages_led' para el training y el testing sets\n",
        "plt.figure(figsize=(10, 5))\n",
        "\n",
        "# Training set scatter plot\n",
        "plt.subplot(1, 2, 1)\n",
        "plt.scatter(y_train, train_predictions, color='blue')\n",
        "plt.plot([min(y_train), max(y_train)], [min(y_train), max(y_train)], color='red', linestyle='--')\n",
        "plt.xlabel('Actual Stages_led')\n",
        "plt.ylabel('Predicted Stages_led')\n",
        "plt.title('Training Set')\n",
        "\n",
        "# Testing set scatter plot\n",
        "plt.subplot(1, 2, 2)\n",
        "plt.scatter(y_test, test_predictions, color='green')\n",
        "plt.plot([min(y_test), max(y_test)], [min(y_test), max(y_test)], color='red', linestyle='--')\n",
        "plt.xlabel('Actual Stages_led')\n",
        "plt.ylabel('Predicted Stages_led')\n",
        "plt.title('Testing Set')\n",
        "\n",
        "plt.tight_layout()\n",
        "plt.show()"
      ],
      "metadata": {
        "colab": {
          "base_uri": "https://localhost:8080/",
          "height": 507
        },
        "id": "m-Abt3FJHpph",
        "outputId": "6e513ba5-03d2-4f29-fb50-86946622c3d2"
      },
      "execution_count": null,
      "outputs": [
        {
          "output_type": "display_data",
          "data": {
            "text/plain": [
              "<Figure size 1000x500 with 2 Axes>"
            ],
            "image/png": "[encoded data removed]"
          },
          "metadata": {}
        }
      ]
    },
    {
      "cell_type": "markdown",
      "source": [
        "confusion matrix"
      ],
      "metadata": {
        "id": "oNEaBgEAJafC"
      }
    },
    {
      "cell_type": "code",
      "source": [
        "\n",
        "import seaborn as sns\n",
        "\n",
        "\n",
        "# Hago predicciones en el training y el testing set\n",
        "train_predictions = model.predict(X_train)\n",
        "test_predictions = model.predict(X_test)\n",
        "\n",
        "# Calculo las metricas de evaluacion metrics en el training y testing sets\n",
        "train_mse = mean_squared_error(y_train, train_predictions)\n",
        "train_rmse = mean_squared_error(y_train, train_predictions, squared=False)\n",
        "train_mae = mean_absolute_error(y_train, train_predictions)\n",
        "train_r2 = r2_score(y_train, train_predictions)\n",
        "\n",
        "test_mse = mean_squared_error(y_test, test_predictions)\n",
        "test_rmse = mean_squared_error(y_test, test_predictions, squared=False)\n",
        "test_mae = mean_absolute_error(y_test, test_predictions)\n",
        "test_r2 = r2_score(y_test, test_predictions)\n",
        "\n",
        "# Imprimo las metricas de eval\n",
        "print(\"Metrics on the training set:\")\n",
        "print(\"Mean Squared Error:\", train_mse)\n",
        "print(\"Root Mean Squared Error:\", train_rmse)\n",
        "print(\"Mean Absolute Error:\", train_mae)\n",
        "print(\"R-squared:\", train_r2)\n",
        "\n",
        "print(\"\\nMetrics on the testing set:\")\n",
        "print(\"Mean Squared Error:\", test_mse)\n",
        "print(\"Root Mean Squared Error:\", test_rmse)\n",
        "print(\"Mean Absolute Error:\", test_mae)\n",
        "print(\"R-squared:\", test_r2)\n",
        "\n",
        "# Residual Plot para el training set\n",
        "train_residuals = y_train - train_predictions\n",
        "plt.figure(figsize=(8, 6))\n",
        "plt.scatter(y_train, train_residuals, color='blue')\n",
        "plt.axhline(y=0, color='red', linestyle='--')\n",
        "plt.xlabel('Actual Stages_led')\n",
        "plt.ylabel('Residuals')\n",
        "plt.title('Residual Plot - Training Set')\n",
        "plt.show()\n",
        "\n",
        "# Residual Plot para el testing set\n",
        "test_residuals = y_test - test_predictions\n",
        "plt.figure(figsize=(8, 6))\n",
        "plt.scatter(y_test, test_residuals, color='green')\n",
        "plt.axhline(y=0, color='red', linestyle='--')\n",
        "plt.xlabel('Actual Stages_led')\n",
        "plt.ylabel('Residuals')\n",
        "plt.title('Residual Plot - Testing Set')\n",
        "plt.show()\n",
        "\n",
        "# Distribution Plot de residuals para training y testing sets\n",
        "plt.figure(figsize=(10, 5))\n",
        "plt.subplot(1, 2, 1)\n",
        "sns.histplot(train_residuals, kde=True, color='blue')\n",
        "plt.xlabel('Residuals')\n",
        "plt.title('Distribution of Residuals - Training Set')\n",
        "\n",
        "plt.subplot(1, 2, 2)\n",
        "sns.histplot(test_residuals, kde=True, color='green')\n",
        "plt.xlabel('Residuals')\n",
        "plt.title('Distribution of Residuals - Testing Set')\n",
        "\n",
        "plt.tight_layout()\n",
        "plt.show()\n"
      ],
      "metadata": {
        "colab": {
          "base_uri": "https://localhost:8080/",
          "height": 1000
        },
        "id": "XjiI_PqjJcxN",
        "outputId": "da38cb4c-28ef-4de6-8e08-ba528bd6c00c"
      },
      "execution_count": null,
      "outputs": [
        {
          "output_type": "stream",
          "name": "stdout",
          "text": [
            "Metrics on the training set:\n",
            "Mean Squared Error: 13.480120486777446\n",
            "Root Mean Squared Error: 3.6715283584329628\n",
            "Mean Absolute Error: 2.5500976897839043\n",
            "R-squared: 0.5340380878987581\n",
            "\n",
            "Metrics on the testing set:\n",
            "Mean Squared Error: 11.549464238108495\n",
            "Root Mean Squared Error: 3.398450270065533\n",
            "Mean Absolute Error: 2.3615668763098454\n",
            "R-squared: 0.5801048622667595\n"
          ]
        },
        {
          "output_type": "display_data",
          "data": {
            "text/plain": [
              "<Figure size 800x600 with 1 Axes>"
            ],
            "image/png": "[encoded data removed]"
          },
          "metadata": {}
        },
        {
          "output_type": "display_data",
          "data": {
            "text/plain": [
              "<Figure size 800x600 with 1 Axes>"
            ],
            "image/png": "[encoded data removed]"
          },
          "metadata": {}
        },
        {
          "output_type": "display_data",
          "data": {
            "text/plain": [
              "<Figure size 1000x500 with 2 Axes>"
            ],
            "image/png": "[encoded data removed]"
          },
          "metadata": {}
        }
      ]
    },
    {
      "cell_type": "markdown",
      "source": [
        "El MSE del training set al igual que el del testing set, estan relativamente altos, por los que creo que aun hay una cantidad significativa de variabilidad que el modelo no captura. Concretamente paso de 13.48 a 11.54, por lo que podria mejorar un poco aun.\n",
        "Los R squared son bajos , tanto el del training set como el del testing set. Por lo que el modelo esxplica solo un porcentaje bajo de la varianza. ( 0.53 y 0.58 respectivamente )\n",
        "\n",
        "Podria intentar con una tecnica de clustering para ver si puedo agrupar a los ciclistas segun ciertas caracteristicas ( equipo, pais de origen por ejemplo)."
      ],
      "metadata": {
        "id": "6PVuB6rTL5qX"
      }
    },
    {
      "cell_type": "markdown",
      "source": [
        "Voy a Intentar hacer un Feature selection. Importo todas las librerias nuevamente para poder testear el codigo rapidamente sin tener que ir hasta el principio.  "
      ],
      "metadata": {
        "id": "kSXJTpS8QRZv"
      }
    },
    {
      "cell_type": "code",
      "source": [
        "import pandas as pd\n",
        "import matplotlib.pyplot as plt\n",
        "from sklearn.feature_selection import SelectKBest, f_regression\n",
        "from sklearn.linear_model import LinearRegression\n",
        "from sklearn.metrics import mean_squared_error, mean_absolute_error, r2_score\n",
        "from sklearn.model_selection import train_test_split\n",
        "\n",
        "# Assuming 'sql_query' is your DataFrame\n",
        "# Drop rows with missing values in 'Height', 'Weight', 'Rank', and 'Stages_led' columns\n",
        "sql_query.dropna(subset=['Height', 'Weight', 'Rank', 'Stages_Led'], inplace=True)\n",
        "\n",
        "# Split the data into training and testing sets, including the 'Stages_led' column\n",
        "X = sql_query[['Rank', 'Weight', 'Height']]  # Feature variables (independent variables)\n",
        "y = sql_query['Stages_Led']                  # Target variable (dependent variable)\n",
        "X_train, X_test, y_train, y_test = train_test_split(X, y, test_size=0.2, random_state=42)\n",
        "\n",
        "# Use SelectKBest to select the top 2 features with the highest F-values (you can adjust 'k' as needed)\n",
        "selector = SelectKBest(score_func=f_regression, k=2)\n",
        "X_train_selected = selector.fit_transform(X_train, y_train)\n",
        "X_test_selected = selector.transform(X_test)\n",
        "\n",
        "# Create the linear regression model and train it using the selected features\n",
        "model = LinearRegression()\n",
        "model.fit(X_train_selected, y_train)\n",
        "\n",
        "# Make predictions on the training and testing sets using the selected features\n",
        "train_predictions = model.predict(X_train_selected)\n",
        "test_predictions = model.predict(X_test_selected)\n",
        "\n",
        "# Calculate evaluation metrics on the training and testing sets\n",
        "train_mse = mean_squared_error(y_train, train_predictions)\n",
        "train_rmse = mean_squared_error(y_train, train_predictions, squared=False)\n",
        "train_mae = mean_absolute_error(y_train, train_predictions)\n",
        "train_r2 = r2_score(y_train, train_predictions)\n",
        "\n",
        "test_mse = mean_squared_error(y_test, test_predictions)\n",
        "test_rmse = mean_squared_error(y_test, test_predictions, squared=False)\n",
        "test_mae = mean_absolute_error(y_test, test_predictions)\n",
        "test_r2 = r2_score(y_test, test_predictions)\n",
        "\n",
        "# Print the evaluation metrics\n",
        "print(\"Metrics on the training set:\")\n",
        "print(\"Mean Squared Error:\", train_mse)\n",
        "print(\"Root Mean Squared Error:\", train_rmse)\n",
        "print(\"Mean Absolute Error:\", train_mae)\n",
        "print(\"R-squared:\", train_r2)\n",
        "\n",
        "print(\"\\nMetrics on the testing set:\")\n",
        "print(\"Mean Squared Error:\", test_mse)\n",
        "print(\"Root Mean Squared Error:\", test_rmse)\n",
        "print(\"Mean Absolute Error:\", test_mae)\n",
        "print(\"R-squared:\", test_r2)\n"
      ],
      "metadata": {
        "colab": {
          "base_uri": "https://localhost:8080/"
        },
        "id": "fn2NtzSIQyBx",
        "outputId": "d675afbc-5f71-4518-eba6-24c96204cc1d"
      },
      "execution_count": null,
      "outputs": [
        {
          "output_type": "stream",
          "name": "stdout",
          "text": [
            "Metrics on the training set:\n",
            "Mean Squared Error: 13.480307129789473\n",
            "Root Mean Squared Error: 3.6715537759631784\n",
            "Mean Absolute Error: 2.550226877096352\n",
            "R-squared: 0.5340316362847053\n",
            "\n",
            "Metrics on the testing set:\n",
            "Mean Squared Error: 11.556347293455163\n",
            "Root Mean Squared Error: 3.3994627948332017\n",
            "Mean Absolute Error: 2.3619096320140263\n",
            "R-squared: 0.5798546202284077\n"
          ]
        }
      ]
    },
    {
      "cell_type": "markdown",
      "source": [
        "Veo que los R squared no se movieron con el feature selection."
      ],
      "metadata": {
        "id": "PEZx_diqTw1s"
      }
    },
    {
      "cell_type": "markdown",
      "source": [
        "**Clustering **"
      ],
      "metadata": {
        "id": "i5qBoRTuT3Ke"
      }
    },
    {
      "cell_type": "code",
      "source": [
        "import pandas as pd\n",
        "import matplotlib.pyplot as plt\n",
        "from sklearn.cluster import KMeans\n",
        "from sklearn.preprocessing import StandardScaler\n",
        "\n",
        "# Assuming 'sql_query' is your DataFrame\n",
        "# Drop rows with missing values in 'Height', 'Weight', 'Rank', and 'Stages_led' columns\n",
        "sql_query.dropna(subset=['Height', 'Weight', 'Rank', 'Stages_Led'], inplace=True)\n",
        "\n",
        "# Extract the relevant features for clustering (in this case, 'Rank', 'Weight', and 'Height')\n",
        "X = sql_query[['Rank', 'Weight', 'Height']]\n",
        "\n",
        "# Standardize the features to have mean=0 and variance=1 (important for K-means)\n",
        "scaler = StandardScaler()\n",
        "X_scaled = scaler.fit_transform(X)\n",
        "\n",
        "# Determine the number of clusters (you can choose 'k' based on domain knowledge or use elbow method)\n",
        "num_clusters = 4\n",
        "\n",
        "# Run K-means clustering\n",
        "kmeans = KMeans(n_clusters=num_clusters, random_state=42)\n",
        "cluster_labels = kmeans.fit_predict(X_scaled)\n",
        "\n",
        "# Add cluster labels to the DataFrame\n",
        "sql_query['Cluster'] = cluster_labels\n",
        "\n",
        "# Explore the clusters and their characteristics\n",
        "cluster_summary = sql_query.groupby('Cluster').agg({\n",
        "    'Rank': 'mean',\n",
        "    'Weight': 'mean',\n",
        "    'Height': 'mean',\n",
        "    'Stages_Led': 'mean',\n",
        "    'Team': 'count'  # Number of riders in each cluster\n",
        "})\n",
        "\n",
        "print(cluster_summary)\n",
        "\n",
        "# Visualize the clusters (you can plot them based on any two features)\n",
        "plt.scatter(X_scaled[:, 0], X_scaled[:, 1], c=cluster_labels, cmap='rainbow')\n",
        "plt.xlabel('Standardized Rank')\n",
        "plt.ylabel('Standardized Weight')\n",
        "plt.title('K-means Clustering')\n",
        "plt.show()\n"
      ],
      "metadata": {
        "colab": {
          "base_uri": "https://localhost:8080/",
          "height": 634
        },
        "id": "PubS1tbQT6Kg",
        "outputId": "9a1a855e-d1f2-4815-a037-b5ec709dbbff"
      },
      "execution_count": null,
      "outputs": [
        {
          "output_type": "stream",
          "name": "stderr",
          "text": [
            "/usr/local/lib/python3.10/dist-packages/sklearn/cluster/_kmeans.py:870: FutureWarning: The default value of `n_init` will change from 10 to 'auto' in 1.4. Set the value of `n_init` explicitly to suppress the warning\n",
            "  warnings.warn(\n"
          ]
        },
        {
          "output_type": "stream",
          "name": "stdout",
          "text": [
            "               Rank     Weight    Height  Stages_Led  Team\n",
            "Cluster                                                   \n",
            "0        122.530973  69.074336  1.861752   13.800000   565\n",
            "1         41.201646  62.962963  1.763169    7.596708   243\n",
            "2        122.318182  63.157025  1.763802    7.900826   242\n",
            "3         41.118166  69.146384  1.861305   13.708995   567\n"
          ]
        },
        {
          "output_type": "display_data",
          "data": {
            "text/plain": [
              "<Figure size 640x480 with 1 Axes>"
            ],
            "image/png": "[encoded data removed]"
          },
          "metadata": {}
        }
      ]
    },
    {
      "cell_type": "markdown",
      "source": [
        "Tengo 4 grupos de ciclistas.\n",
        "Los grupos 0 y 3 están formados por ciclistas con mayor ranking, peso y altura. También han competido en más etapas, lo que indica que son corredores experimentados o ciclistas de alto rendimiento.\n",
        "Los grupos 1 y 2 incluyen corredores de menor ranking, menor peso y menor altura. Han competido en menos etapas.\n",
        "\n",
        "\n",
        "Grupo 0:\n",
        "\n",
        "Los ciclistas del cluster 0 tienen un rango medio relativamente alto (122,53) en comparación con otros clusters.\n",
        "También tienen una media más alta de peso (69,07 kg) y altura (1,86 metros).\n",
        "En promedio, los corredores del cluster 0 han competido en más etapas y tienen una media más alta de Stages_led (13,80).\n",
        "El grupo 0 es el más numeroso, con 565 corredores.\n",
        "\n",
        "Grupo 1:\n",
        "\n",
        "Los corredores del grupo 1 tienen una clasificación media más baja (41,20) que los del grupo 0. Tienden a tener un peso medio más bajo que los del grupo 0.\n",
        "Suelen tener un peso medio (62,96 kg) y una altura (1,76 metros) inferiores a los del grupo 0. En promedio, los ciclistas del Grupo 1 han competido en menos etapas, y su promedio de Stages_led es de 7,60.\n",
        "El grupo 1 es el segundo más grande, con 243 corredores.\n",
        "\n",
        "Grupo 2:\n",
        "\n",
        "Los ciclistas del Cluster 2 tienen una clasificación similar a la del Cluster 0, con una clasificación media de 122,32. Tienen un peso medio más bajo (63%). Tienen una media de peso (63,16 kg) y altura (1,76 metros) inferior a la del grupo 0.En promedio, los ciclistas del Grupo 2 han competido en menos etapas, y su promedio de Stages_led es de 7,90.\n",
        "El grupo 2 es el tercero más grande, con 242 corredores.\n",
        "\n",
        "Grupo 3:\n",
        "\n",
        "Los ciclistas del grupo 3 tienen una clasificación similar a la del grupo 1, con una clasificación media de 41,12 puntos.\n",
        "Suelen tener un peso medio (69,15 kg) y una altura (1,86 metros) superiores a los del grupo 1.\n",
        "En promedio, los ciclistas del Cluster 3 han competido en más etapas y tienen una media más alta de Stages_led (13,71).\n",
        "El grupo 3 es el segundo más grande, con 567 corredores.\n",
        "\n"
      ],
      "metadata": {
        "id": "4RSbUuPYUqA7"
      }
    },
    {
      "cell_type": "markdown",
      "source": [
        "Como conclusion general, vemos que de los equipos que han terminado o ganado los tour de france desde el 2010 hasta el 2022, hay dos tipos de ciclistas bien diferenciados que componen sus equipos. Aquellos de mas peso, mas altura y mas carreras, y los otros mas livianos, mas bajos y con menos carreras. Seguramente estos ciclistas cumplen funciones diferentes en una carrera dentro de su grupo, y un analisis mas en profundidad de la performance de estos subgrupos seria recomendable para luego trabajar en estrategias de carreras."
      ],
      "metadata": {
        "id": "kpWtjFfIX5mB"
      }
    }
  ],
  "metadata": {
    "colab": {
      "provenance": [],
      "toc_visible": true,
      "mount_file_id": "1ejDUZmmjD_VT9zAV8rE_KG4vaKIJVQI0",
      "authorship_tag": "ABX9TyMJbZzmtg8YuLgCoGfZ7G4B",
      "include_colab_link": true
    },
    "kernelspec": {
      "display_name": "Python 3",
      "name": "python3"
    },
    "language_info": {
      "name": "python"
    }
  },
  "nbformat": 4,
  "nbformat_minor": 0
}